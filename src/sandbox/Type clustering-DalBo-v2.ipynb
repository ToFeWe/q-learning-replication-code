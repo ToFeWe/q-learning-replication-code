{
 "cells": [
  {
   "cell_type": "code",
   "execution_count": 1,
   "metadata": {},
   "outputs": [],
   "source": [
    "# Do not delete this cell. It ensures that you can do the imports,\n",
    "# load datasets etc. in the same fashion as in any Python script\n",
    "# in the project template.\n",
    "\n",
    "\n",
    "import sys\n",
    "sys.path.insert(0, '../..')\n",
    "from bld.project_paths import project_paths_join as ppj\n",
    "from bld.project_paths import project_paths as pp\n",
    "\n",
    "%config Completer.use_jedi = False\n",
    "\n",
    "#see https://github.com/yaroslavrosokha/sfem/blob/master/sfem.ipynb"
   ]
  },
  {
   "cell_type": "code",
   "execution_count": 2,
   "metadata": {},
   "outputs": [],
   "source": [
    "import numpy as np\n",
    "import json\n",
    "import pickle\n",
    "import pandas as pd\n",
    "from scipy.stats import sem\n",
    "import seaborn as sns\n",
    "import matplotlib.pyplot as plt\n",
    "%config Completer.use_jedi = False\n",
    "\n",
    "from matplotlib import rc\n",
    "rc('text', usetex=True)\n",
    "plt.rcParams.update({'font.size': 20})\n"
   ]
  },
  {
   "cell_type": "code",
   "execution_count": 3,
   "metadata": {},
   "outputs": [],
   "source": [
    "data = pd.read_pickle(ppj(\"OUT_DATA\", \"data_individual_level.pickle\"))"
   ]
  },
  {
   "cell_type": "code",
   "execution_count": 4,
   "metadata": {},
   "outputs": [],
   "source": [
    "data_last_sg = data.loc[(data['super_game'] == 3) &\n",
    "                             (data['treatment'] == '1H2A') ].copy()\n",
    "# data_last_sg_1H2A = data.loc[(data['super_game'] == 1) &\n",
    "#                              (data['treatment'] == '1H2A') ]"
   ]
  },
  {
   "cell_type": "markdown",
   "metadata": {},
   "source": [
    "Reshape the data to wide format"
   ]
  },
  {
   "cell_type": "code",
   "execution_count": 5,
   "metadata": {},
   "outputs": [],
   "source": [
    "data_subset = data_last_sg[['participant.code', 'round', 'price']]\n",
    "data_subset_pivot = data_subset.pivot(index='participant.code', columns='round', values='price').copy()\n",
    "data_subset_pivot.reset_index(level=0, inplace=True)\n"
   ]
  },
  {
   "cell_type": "code",
   "execution_count": 6,
   "metadata": {},
   "outputs": [],
   "source": [
    "def always_cooperate(p, p_lag_1, rounder_number):\n",
    "    if p == 4:\n",
    "        return 1\n",
    "    else:\n",
    "        return 0\n",
    "\n",
    "def always_defect(p, p_lag_1, rounder_number):\n",
    "    return 1 if p == 1 else 0\n",
    "\n",
    "def exploit(p, p_lag_1, rounder_number):\n",
    "    if p == 3 and p_lag_1 == 1:\n",
    "        return 1\n",
    "    elif p == 1 and p_lag_1 == 3:\n",
    "        return 1\n",
    "    elif rounder_number == 1 and p == 3:\n",
    "        return 1\n",
    "    else:\n",
    "        return 0"
   ]
  },
  {
   "cell_type": "code",
   "execution_count": 7,
   "metadata": {},
   "outputs": [],
   "source": [
    "def exploit_at_2(p, p_lag_1, rounder_number):\n",
    "    if p == 2 and p_lag_1 == 1:\n",
    "        return 1\n",
    "    elif p == 1 and p_lag_1 == 2:\n",
    "        return 1\n",
    "    elif rounder_number == 1 and p == 2:\n",
    "        return 1\n",
    "    else:\n",
    "        return 0"
   ]
  },
  {
   "cell_type": "code",
   "execution_count": 8,
   "metadata": {
    "scrolled": true
   },
   "outputs": [],
   "source": [
    "data_dal = data_last_sg[['participant.code', 'round', 'price', 'price_lag_1']].copy()"
   ]
  },
  {
   "cell_type": "code",
   "execution_count": 9,
   "metadata": {},
   "outputs": [],
   "source": [
    "data_dal['ac'] = data_dal.apply(lambda x: always_cooperate(x['price'], x['price_lag_1'], x['round']), axis=1)"
   ]
  },
  {
   "cell_type": "code",
   "execution_count": 10,
   "metadata": {},
   "outputs": [],
   "source": [
    "data_dal['ad'] = data_dal.apply(lambda x: always_defect(x['price'], x['price_lag_1'], x['round']), axis=1)"
   ]
  },
  {
   "cell_type": "code",
   "execution_count": 11,
   "metadata": {},
   "outputs": [],
   "source": [
    "data_dal['exploit'] = data_dal.apply(lambda x: exploit(x['price'], x['price_lag_1'], x['round']), axis=1)"
   ]
  },
  {
   "cell_type": "code",
   "execution_count": 12,
   "metadata": {},
   "outputs": [],
   "source": [
    "data_dal['exploit_at_2'] = data_dal.apply(lambda x: exploit_at_2(x['price'], x['price_lag_1'], x['round']), axis=1)"
   ]
  },
  {
   "cell_type": "code",
   "execution_count": 13,
   "metadata": {},
   "outputs": [],
   "source": [
    "data_agg_sum = data_dal.groupby(['participant.code'], as_index=False).sum()"
   ]
  },
  {
   "cell_type": "code",
   "execution_count": 14,
   "metadata": {},
   "outputs": [],
   "source": [
    "correct_matrix = data_agg_sum[['exploit', 'ac', 'ad', 'exploit_at_2']].values"
   ]
  },
  {
   "cell_type": "code",
   "execution_count": 15,
   "metadata": {},
   "outputs": [],
   "source": [
    "incorrect_matrix = np.ones(correct_matrix.shape)* data_dal['round'].max() - correct_matrix"
   ]
  },
  {
   "cell_type": "code",
   "execution_count": 16,
   "metadata": {},
   "outputs": [],
   "source": [
    "def objective(x, args):\n",
    "    C = args[0]\n",
    "    E = args[1]\n",
    "    \n",
    "    bc=np.power(x[0],C) #beta to the power of C\n",
    "    be=np.power(1-x[0],E) #beta to the power of E\n",
    "    prodBce = np.multiply(bc,be) #Hadamard product\n",
    "    \n",
    "    #maximum is taken so that there is no log(0) warning/error\n",
    "    res = np.log(np.maximum(np.dot(prodBce, x[1:]),np.nextafter(0,1))).sum() \n",
    "    \n",
    "    return -res"
   ]
  },
  {
   "cell_type": "code",
   "execution_count": 17,
   "metadata": {},
   "outputs": [],
   "source": [
    "from scipy.optimize import minimize"
   ]
  },
  {
   "cell_type": "code",
   "execution_count": 18,
   "metadata": {},
   "outputs": [],
   "source": [
    "def constraint1(x):\n",
    "    \n",
    "    return x[1:].sum()-1\n",
    "\n",
    "\n",
    "n_strats = 4\n",
    "\n",
    "#Set up the boundaries and constraints\n",
    "b0 = (np.nextafter(0.5,1),1-np.nextafter(0,1))\n",
    "b1 = (np.nextafter(0,1),1-np.nextafter(0,1))\n",
    "bnds = tuple([b0]+[b1]*n_strats) #Beta is at least .5\n",
    "con1 = {'type': 'eq', 'fun': constraint1} \n",
    "cons = ([con1])\n",
    "\n"
   ]
  },
  {
   "cell_type": "code",
   "execution_count": 19,
   "metadata": {
    "scrolled": true
   },
   "outputs": [
    {
     "name": "stderr",
     "output_type": "stream",
     "text": [
      "C:\\Users\\DICE\\Anaconda3\\lib\\site-packages\\scipy\\optimize\\optimize.py:283: RuntimeWarning: Values in x were outside bounds during a minimize step, clipping to bounds\n",
      "  \"minimize step, clipping to bounds\", RuntimeWarning)\n"
     ]
    }
   ],
   "source": [
    "np.random.seed(9)\n",
    "n_bootstrap = 1000\n",
    "estimates_bootstrap = np.zeros((n_bootstrap, n_strats+1))\n",
    "n_participants = correct_matrix.shape[0]\n",
    "\n",
    "for b in range(n_bootstrap):\n",
    "    #Some random starting point\n",
    "    x0 = np.zeros(n_strats+1)\n",
    "    x0[0] = .5+.5*np.random.random()\n",
    "    temp = np.random.random(n_strats)\n",
    "    x0[1:]=temp/temp.sum()\n",
    "    \n",
    "    # create bootstrap sample\n",
    "    index_sample = np.random.randint(0, n_participants, n_participants)\n",
    "    correct_boot = correct_matrix[index_sample, :]\n",
    "    incorrect_boot = incorrect_matrix[index_sample, :]\n",
    "\n",
    "    bestX=x0\n",
    "    bestObjective=objective(x0,[correct_boot, incorrect_boot])\n",
    "\n",
    "    for k in range(50): #Do many times so that there is low chance of getting stuck in local optimum\n",
    "        x0 = np.zeros(n_strats+1)\n",
    "        x0[0] = .5+.5*np.random.random()\n",
    "        temp = np.random.random(n_strats)\n",
    "        x0[1:]=temp/temp.sum()\n",
    "\n",
    "        #Notice that we are minimizing the negative\n",
    "        solution = minimize(objective,x0,method='SLSQP',bounds=bnds,constraints=cons,args=([correct_boot, incorrect_boot]))\n",
    "        x = solution.x\n",
    "        obj = solution.fun\n",
    "\n",
    "        if bestObjective>obj:\n",
    "            bestObjective=obj\n",
    "            bestX=x\n",
    "    estimates_bootstrap[b,:] = x"
   ]
  },
  {
   "cell_type": "code",
   "execution_count": 20,
   "metadata": {},
   "outputs": [
    {
     "name": "stdout",
     "output_type": "stream",
     "text": [
      "Estimates:  [0.85542984 0.29756291 0.47628281 0.08924616 0.13690813]\n"
     ]
    }
   ],
   "source": [
    "#Some random starting point\n",
    "x0 = np.zeros(n_strats+1)\n",
    "x0[0] = .5+.5*np.random.random()\n",
    "temp = np.random.random(n_strats)\n",
    "x0[1:]=temp/temp.sum()\n",
    "\n",
    "bestX=x0\n",
    "bestObjective=objective(x0,[correct_matrix, incorrect_matrix])\n",
    "\n",
    "for k in range(50): #Do many times so that there is low chance of getting stuck in local optimum\n",
    "    x0 = np.zeros(n_strats+1)\n",
    "    x0[0] = .5+.5*np.random.random()\n",
    "    temp = np.random.random(n_strats)\n",
    "    x0[1:]=temp/temp.sum()\n",
    "\n",
    "    #Notice that we are minimizing the negative\n",
    "    solution = minimize(objective,x0,method='SLSQP',bounds=bnds,constraints=cons,args=([correct_matrix, incorrect_matrix]))\n",
    "    x = solution.x\n",
    "    obj = solution.fun\n",
    "\n",
    "    if bestObjective>obj:\n",
    "        bestObjective=obj\n",
    "        bestX=x\n",
    "print(\"Estimates: \", x)"
   ]
  },
  {
   "cell_type": "code",
   "execution_count": 21,
   "metadata": {},
   "outputs": [
    {
     "data": {
      "text/plain": [
       "array([0.09942139, 0.13874018, 0.1628809 , 0.08895986, 0.09288215])"
      ]
     },
     "execution_count": 21,
     "metadata": {},
     "output_type": "execute_result"
    }
   ],
   "source": [
    "np.std(estimates_bootstrap, axis=0)"
   ]
  },
  {
   "cell_type": "code",
   "execution_count": 22,
   "metadata": {},
   "outputs": [
    {
     "data": {
      "text/plain": [
       "['beta', 'exploit', 'ac', 'ad', 'exploit_at_2']"
      ]
     },
     "execution_count": 22,
     "metadata": {},
     "output_type": "execute_result"
    }
   ],
   "source": [
    "['beta', 'exploit', 'ac', 'ad', 'exploit_at_2']"
   ]
  },
  {
   "cell_type": "code",
   "execution_count": 23,
   "metadata": {
    "scrolled": false
   },
   "outputs": [],
   "source": [
    "# g = sns.FacetGrid(data_dal, col=\"participant.code\", height=3.5, aspect=1, col_wrap=3)\n",
    "# g.map_dataframe(sns.lineplot, x=\"round\", y=\"price\")\n"
   ]
  }
 ],
 "metadata": {
  "kernelspec": {
   "display_name": "Python 3",
   "language": "python",
   "name": "python3"
  },
  "language_info": {
   "codemirror_mode": {
    "name": "ipython",
    "version": 3
   },
   "file_extension": ".py",
   "mimetype": "text/x-python",
   "name": "python",
   "nbconvert_exporter": "python",
   "pygments_lexer": "ipython3",
   "version": "3.7.7"
  }
 },
 "nbformat": 4,
 "nbformat_minor": 4
}
