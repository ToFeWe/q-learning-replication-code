{
 "cells": [
  {
   "cell_type": "code",
   "execution_count": 1,
   "metadata": {},
   "outputs": [],
   "source": [
    "# Do not delete this cell. It ensures that you can do the imports,\n",
    "# load datasets etc. in the same fashion as in any Python script\n",
    "# in the project template.\n",
    "\n",
    "\n",
    "import sys\n",
    "sys.path.insert(0, '../..')\n",
    "from bld.project_paths import project_paths_join as ppj\n",
    "from bld.project_paths import project_paths as pp\n",
    "\n",
    "%config Completer.use_jedi = False\n",
    "\n",
    "#see https://github.com/yaroslavrosokha/sfem/blob/master/sfem.ipynb"
   ]
  },
  {
   "cell_type": "code",
   "execution_count": 2,
   "metadata": {},
   "outputs": [],
   "source": [
    "import numpy as np\n",
    "import json\n",
    "import pickle\n",
    "import pandas as pd\n",
    "from scipy.stats import sem\n",
    "import seaborn as sns\n",
    "import matplotlib.pyplot as plt\n",
    "%config Completer.use_jedi = False\n",
    "\n",
    "from matplotlib import rc\n",
    "rc('text', usetex=True)\n",
    "plt.rcParams.update({'font.size': 20})\n"
   ]
  },
  {
   "cell_type": "code",
   "execution_count": 10,
   "metadata": {},
   "outputs": [],
   "source": [
    "\"\"\"Always cooperate strategy\"\"\"\n",
    "actions  = [0,1,1]\n",
    "n = len(actions)\n",
    "out = np.ones(n)\n",
    "out[np.isnan(actions)] = np.nan"
   ]
  },
  {
   "cell_type": "code",
   "execution_count": 13,
   "metadata": {},
   "outputs": [
    {
     "data": {
      "text/plain": [
       "array([False, False])"
      ]
     },
     "execution_count": 13,
     "metadata": {},
     "output_type": "execute_result"
    }
   ],
   "source": [
    "np.isnan([1,2])"
   ]
  },
  {
   "cell_type": "code",
   "execution_count": 14,
   "metadata": {},
   "outputs": [],
   "source": [
    "data = pd.read_pickle(ppj(\"OUT_DATA\", \"data_individual_level.pickle\"))"
   ]
  },
  {
   "cell_type": "code",
   "execution_count": 43,
   "metadata": {},
   "outputs": [],
   "source": [
    "data_last_sg = data.loc[(data['super_game'] == 3) &\n",
    "                             (data['treatment'] == '1H1A') ].copy()\n",
    "# data_last_sg_1H2A = data.loc[(data['super_game'] == 1) &\n",
    "#                              (data['treatment'] == '1H2A') ]"
   ]
  },
  {
   "cell_type": "code",
   "execution_count": 44,
   "metadata": {
    "scrolled": true
   },
   "outputs": [
    {
     "data": {
      "text/plain": [
       "['participant.code',\n",
       " 'round',\n",
       " 'super_game',\n",
       " 'group_id',\n",
       " 'winning_price',\n",
       " 'price',\n",
       " 'price_algorithm',\n",
       " 'data_identifier',\n",
       " 'treatment',\n",
       " 'super_group_id',\n",
       " 'unique_prices_humans',\n",
       " 'collusive',\n",
       " 'super_group_id_general',\n",
       " 'group_id_general',\n",
       " 'winning_price_lag_0',\n",
       " 'price_lag_0',\n",
       " 'price_algorithm_0',\n",
       " 'winning_price_lag_1',\n",
       " 'price_lag_1',\n",
       " 'price_algorithm_1',\n",
       " 'winning_price_lag_2',\n",
       " 'price_lag_2',\n",
       " 'price_algorithm_2',\n",
       " 'winning_price_lag_3',\n",
       " 'price_lag_3',\n",
       " 'price_algorithm_3',\n",
       " 'winning_price_lag_4',\n",
       " 'price_lag_4',\n",
       " 'price_algorithm_4',\n",
       " 'r_sg']"
      ]
     },
     "execution_count": 44,
     "metadata": {},
     "output_type": "execute_result"
    }
   ],
   "source": [
    "list(data_last_sg)"
   ]
  },
  {
   "cell_type": "markdown",
   "metadata": {},
   "source": [
    "Reshape the data to wide format"
   ]
  },
  {
   "cell_type": "code",
   "execution_count": 45,
   "metadata": {},
   "outputs": [],
   "source": [
    "def always_cooperate(p, p_other_lag, rounder_number):\n",
    "    return 1 if p == 4 else 0\n",
    "\n",
    "def always_defect(p, p_other_lag, rounder_number):\n",
    "    return 1 if p == 1 else 0\n",
    "\n",
    "def exploit(p, p_other_lag, rounder_number):\n",
    "    if p == 3 and p_other_lag == 1:\n",
    "        return 1\n",
    "    elif p == 1 and p_other_lag == 4:\n",
    "        return 1\n",
    "    elif rounder_number == 1 and p == 3:\n",
    "        return 1\n",
    "    else:\n",
    "        return 0"
   ]
  },
  {
   "cell_type": "code",
   "execution_count": 46,
   "metadata": {},
   "outputs": [],
   "source": [
    "def exploit_at_2(p, p_other_lag, rounder_number):\n",
    "    if p == 2 and p_other_lag == 1:\n",
    "        return 1\n",
    "    elif p == 1 and p_other_lag == 4:\n",
    "        return 1\n",
    "    elif rounder_number == 1 and p == 2:\n",
    "        return 1\n",
    "    else:\n",
    "        return 0"
   ]
  },
  {
   "cell_type": "code",
   "execution_count": 47,
   "metadata": {
    "scrolled": true
   },
   "outputs": [],
   "source": [
    "data_dal = data_last_sg[['participant.code', 'round', 'price', 'price_lag_1', 'price_algorithm_1']].copy()"
   ]
  },
  {
   "cell_type": "code",
   "execution_count": 48,
   "metadata": {},
   "outputs": [],
   "source": [
    "data_dal['ac'] = data_dal.apply(lambda x: always_cooperate(x['price'], x['price_algorithm_1'], x['round']), axis=1)"
   ]
  },
  {
   "cell_type": "code",
   "execution_count": 49,
   "metadata": {},
   "outputs": [],
   "source": [
    "data_dal['ad'] = data_dal.apply(lambda x: always_defect(x['price'], x['price_algorithm_1'], x['round']), axis=1)"
   ]
  },
  {
   "cell_type": "code",
   "execution_count": 50,
   "metadata": {},
   "outputs": [],
   "source": [
    "data_dal['exploit'] = data_dal.apply(lambda x: exploit(x['price'], x['price_algorithm_1'], x['round']), axis=1)"
   ]
  },
  {
   "cell_type": "code",
   "execution_count": 51,
   "metadata": {},
   "outputs": [],
   "source": [
    "data_dal['exploit_at_2'] = data_dal.apply(lambda x: exploit_at_2(x['price'], x['price_algorithm_1'], x['round']), axis=1)"
   ]
  },
  {
   "cell_type": "code",
   "execution_count": 52,
   "metadata": {},
   "outputs": [],
   "source": [
    "data_agg_sum = data_dal.groupby(['participant.code'], as_index=False).sum()"
   ]
  },
  {
   "cell_type": "code",
   "execution_count": 53,
   "metadata": {},
   "outputs": [],
   "source": [
    "correct_matrix = data_agg_sum[['exploit', 'ac', 'ad', 'exploit_at_2']].values"
   ]
  },
  {
   "cell_type": "code",
   "execution_count": 54,
   "metadata": {},
   "outputs": [],
   "source": [
    "incorrect_matrix = np.ones(correct_matrix.shape)* data_dal['round'].max() - correct_matrix"
   ]
  },
  {
   "cell_type": "code",
   "execution_count": 55,
   "metadata": {},
   "outputs": [],
   "source": [
    "def objective(x, args):\n",
    "    C = args[0]\n",
    "    E = args[1]\n",
    "    \n",
    "    bc=np.power(x[0],C) #beta to the power of C\n",
    "    be=np.power(1-x[0],E) #beta to the power of E\n",
    "    prodBce = np.multiply(bc,be) #Hadamard product\n",
    "    \n",
    "    #maximum is taken so that there is no log(0) warning/error\n",
    "    res = np.log(np.maximum(np.dot(prodBce, x[1:]),np.nextafter(0,1))).sum() \n",
    "    \n",
    "    return -res"
   ]
  },
  {
   "cell_type": "code",
   "execution_count": 56,
   "metadata": {},
   "outputs": [],
   "source": [
    "from scipy.optimize import minimize"
   ]
  },
  {
   "cell_type": "code",
   "execution_count": 57,
   "metadata": {},
   "outputs": [],
   "source": [
    "def constraint1(x):\n",
    "    \n",
    "    return x[1:].sum()-1\n",
    "\n",
    "\n",
    "n_strats = 4\n",
    "\n",
    "#Set up the boundaries and constraints\n",
    "b0 = (np.nextafter(0.5,1),1-np.nextafter(0,1))\n",
    "b1 = (np.nextafter(0,1),1-np.nextafter(0,1))\n",
    "bnds = tuple([b0]+[b1]*n_strats) #Beta is at least .5\n",
    "con1 = {'type': 'eq', 'fun': constraint1} \n",
    "cons = ([con1])\n",
    "\n"
   ]
  },
  {
   "cell_type": "code",
   "execution_count": 79,
   "metadata": {
    "scrolled": true
   },
   "outputs": [],
   "source": [
    "np.random.seed(9)\n",
    "n_bootstrap = 10\n",
    "estimates_bootstrap = np.zeros((n_bootstrap, n_strats+1))\n",
    "n_participants = correct_matrix.shape[0] \n",
    "\n",
    "for b in range(n_bootstrap):\n",
    "    #Some random starting point\n",
    "    x0 = np.zeros(n_strats+1)\n",
    "    x0[0] = .5+.5*np.random.random()\n",
    "    temp = np.random.random(n_strats)\n",
    "    x0[1:]=temp/temp.sum()\n",
    "    \n",
    "    # create bootstrap sample\n",
    "    index_sample = np.random.randint(0, n_participants, n_participants)\n",
    "    correct_boot = correct_matrix[index_sample, :]\n",
    "    incorrect_boot = incorrect_matrix[index_sample, :]\n",
    "\n",
    "    bestX=x0\n",
    "    bestObjective=objective(x0,[correct_boot, incorrect_boot])\n",
    "\n",
    "    for k in range(50): #Do many times so that there is low chance of getting stuck in local optimum\n",
    "        x0 = np.zeros(n_strats+1)\n",
    "        x0[0] = .5+.5*np.random.random()\n",
    "        temp = np.random.random(n_strats)\n",
    "        x0[1:]=temp/temp.sum()\n",
    "\n",
    "        #Notice that we are minimizing the negative\n",
    "        solution = minimize(objective,x0,method='SLSQP',bounds=bnds,constraints=cons,args=([correct_boot, incorrect_boot]))\n",
    "        x = solution.x\n",
    "        obj = solution.fun\n",
    "\n",
    "        if bestObjective>obj:\n",
    "            bestObjective=obj\n",
    "            bestX=x\n",
    "    estimates_bootstrap[b,:] = x"
   ]
  },
  {
   "cell_type": "code",
   "execution_count": 77,
   "metadata": {},
   "outputs": [
    {
     "data": {
      "text/plain": [
       "array([0, 0])"
      ]
     },
     "execution_count": 77,
     "metadata": {},
     "output_type": "execute_result"
    }
   ],
   "source": [
    "np.random.randint(0, 1, 2, )"
   ]
  },
  {
   "cell_type": "code",
   "execution_count": 59,
   "metadata": {},
   "outputs": [
    {
     "name": "stdout",
     "output_type": "stream",
     "text": [
      "Estimates:  [9.34639475e-01 2.90342040e-01 6.12952634e-01 9.67053256e-02\n",
      " 1.73728945e-12]\n"
     ]
    }
   ],
   "source": [
    "#Some random starting point\n",
    "x0 = np.zeros(n_strats+1)\n",
    "x0[0] = .5+.5*np.random.random()\n",
    "temp = np.random.random(n_strats)\n",
    "x0[1:]=temp/temp.sum()\n",
    "\n",
    "bestX=x0\n",
    "bestObjective=objective(x0,[correct_matrix, incorrect_matrix])\n",
    "\n",
    "for k in range(50): #Do many times so that there is low chance of getting stuck in local optimum\n",
    "    x0 = np.zeros(n_strats+1)\n",
    "    x0[0] = .5+.5*np.random.random()\n",
    "    temp = np.random.random(n_strats)\n",
    "    x0[1:]=temp/temp.sum()\n",
    "\n",
    "    #Notice that we are minimizing the negative\n",
    "    solution = minimize(objective,x0,method='SLSQP',bounds=bnds,constraints=cons,args=([correct_matrix, incorrect_matrix]))\n",
    "    x = solution.x\n",
    "    obj = solution.fun\n",
    "\n",
    "    if bestObjective>obj:\n",
    "        bestObjective=obj\n",
    "        bestX=x\n",
    "print(\"Estimates: \", x)"
   ]
  },
  {
   "cell_type": "code",
   "execution_count": 21,
   "metadata": {},
   "outputs": [
    {
     "data": {
      "text/plain": [
       "array([0.09942139, 0.13874018, 0.1628809 , 0.08895986, 0.09288215])"
      ]
     },
     "execution_count": 21,
     "metadata": {},
     "output_type": "execute_result"
    }
   ],
   "source": [
    "np.std(estimates_bootstrap, axis=0)"
   ]
  },
  {
   "cell_type": "code",
   "execution_count": 22,
   "metadata": {},
   "outputs": [
    {
     "data": {
      "text/plain": [
       "['beta', 'exploit', 'ac', 'ad', 'exploit_at_2']"
      ]
     },
     "execution_count": 22,
     "metadata": {},
     "output_type": "execute_result"
    }
   ],
   "source": [
    "['beta', 'exploit', 'ac', 'ad', 'exploit_at_2']"
   ]
  },
  {
   "cell_type": "code",
   "execution_count": 23,
   "metadata": {
    "scrolled": false
   },
   "outputs": [],
   "source": [
    "# g = sns.FacetGrid(data_dal, col=\"participant.code\", height=3.5, aspect=1, col_wrap=3)\n",
    "# g.map_dataframe(sns.lineplot, x=\"round\", y=\"price\")\n"
   ]
  }
 ],
 "metadata": {
  "kernelspec": {
   "display_name": "Python 3",
   "language": "python",
   "name": "python3"
  },
  "language_info": {
   "codemirror_mode": {
    "name": "ipython",
    "version": 3
   },
   "file_extension": ".py",
   "mimetype": "text/x-python",
   "name": "python",
   "nbconvert_exporter": "python",
   "pygments_lexer": "ipython3",
   "version": "3.7.7"
  }
 },
 "nbformat": 4,
 "nbformat_minor": 4
}
