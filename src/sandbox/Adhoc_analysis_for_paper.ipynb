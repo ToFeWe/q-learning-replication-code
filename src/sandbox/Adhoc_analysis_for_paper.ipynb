{
 "cells": [
  {
   "cell_type": "code",
   "execution_count": 1,
   "metadata": {},
   "outputs": [],
   "source": [
    "# Do not delete this cell. It ensures that you can do the imports,\n",
    "# load datasets etc. in the same fashion as in any Python script\n",
    "# in the project template.\n",
    "\n",
    "\n",
    "import sys\n",
    "sys.path.insert(0, '../..')\n",
    "from bld.project_paths import project_paths_join as ppj\n",
    "from bld.project_paths import project_paths as pp\n",
    "\n",
    "%config Completer.use_jedi = False\n",
    "\n"
   ]
  },
  {
   "cell_type": "code",
   "execution_count": 2,
   "metadata": {},
   "outputs": [],
   "source": [
    "import numpy as np\n",
    "import json\n",
    "import pickle\n",
    "import pandas as pd\n",
    "from scipy.stats import sem\n",
    "import seaborn as sns\n",
    "import matplotlib.pyplot as plt\n",
    "%config Completer.use_jedi = False\n",
    "\n",
    "from matplotlib import rc\n",
    "rc('text', usetex=True)\n",
    "plt.rcParams.update({'font.size': 20})\n"
   ]
  },
  {
   "cell_type": "markdown",
   "metadata": {},
   "source": [
    "# Are fully algortihmic markets more collusive than fully human markets?\n",
    "\n",
    "To answer this question we will compare the outcomes for the algorithmic market to the outcomes in the last super game of the human markets. We focus on the last super game as this allowed humans for some learning. Arguably this is the most accurate comparision."
   ]
  },
  {
   "cell_type": "markdown",
   "metadata": {},
   "source": [
    "First we load the needed data."
   ]
  },
  {
   "cell_type": "code",
   "execution_count": 3,
   "metadata": {},
   "outputs": [],
   "source": [
    "# Two firm algorithm markets\n",
    "with open(ppj(\"OUT_DATA\", f\"grid_2_agents.pickle\"), \"rb\") as f:\n",
    "    all_output_grids_2_agents = pickle.load(f)\n",
    "all_prices_2_agents_grid = np.array(all_output_grids_2_agents['avg_price'])\n",
    "with open(ppj(\"OUT_DATA\", \"super_star_avg_prices_2_agents.pickle\"), \"rb\") as f:\n",
    "    super_star_avg_prices_2_agents = pickle.load(f)\n",
    "\n",
    "# Three firm algorithm markets\n",
    "with open(ppj(\"OUT_DATA\", f\"grid_3_agents.pickle\"), \"rb\") as f:\n",
    "    all_output_grids_3_agents = pickle.load(f)\n",
    "all_prices_3_agents_grid = np.array(all_output_grids_3_agents['avg_price'])\n",
    "with open(ppj(\"OUT_DATA\", \"super_star_avg_prices_3_agents.pickle\"), \"rb\") as f:\n",
    "    super_star_avg_prices_3_agents = pickle.load(f)\n"
   ]
  },
  {
   "cell_type": "code",
   "execution_count": 4,
   "metadata": {},
   "outputs": [],
   "source": [
    "# we want to transform those to pandas dataframes as it will be easier to deal with them once we go over to plotting"
   ]
  },
  {
   "cell_type": "code",
   "execution_count": 5,
   "metadata": {},
   "outputs": [],
   "source": [
    "with open(ppj(\"OUT_DATA\", \"data_group_level.pickle\"), \"rb\") as f:\n",
    "    data_group_level = pickle.load(f)"
   ]
  },
  {
   "cell_type": "markdown",
   "metadata": {},
   "source": [
    "## Next up we use mann whitney u tests to compare the respective samples."
   ]
  },
  {
   "cell_type": "code",
   "execution_count": 6,
   "metadata": {},
   "outputs": [],
   "source": [
    "from scipy.stats import mannwhitneyu, ttest_1samp, ttest_ind"
   ]
  },
  {
   "cell_type": "markdown",
   "metadata": {},
   "source": [
    "### We start by comparing the market prices within a respective market size."
   ]
  },
  {
   "cell_type": "markdown",
   "metadata": {},
   "source": [
    "Two firm market:"
   ]
  },
  {
   "cell_type": "code",
   "execution_count": 7,
   "metadata": {
    "scrolled": true
   },
   "outputs": [
    {
     "name": "stdout",
     "output_type": "stream",
     "text": [
      "Two firm market. Algo (super star) v human \n",
      "Super game: 1. P-value: 0.000\n",
      "Super game: 2. P-value: 0.000\n",
      "Super game: 3. P-value: 0.000\n"
     ]
    }
   ],
   "source": [
    "print(\"Two firm market. Algo (super star) v human \")\n",
    "for sg in range(1,4):\n",
    "    subset_sg = data_group_level.loc[(data_group_level['super_game'] == sg) & \n",
    "                                                        (data_group_level['treatment'] == '2H0A')].groupby(['super_group_id_general', 'treatment'], as_index=False)[['winning_price', 'collusive']].mean()\n",
    "\n",
    "    p_value = mannwhitneyu(\n",
    "        subset_sg['winning_price'],\n",
    "        super_star_avg_prices_2_agents,\n",
    "        use_continuity=False,\n",
    "        alternative='two-sided'\n",
    "    )[-1]\n",
    "    print(f\"Super game: {sg}. P-value: {p_value:.3f}\")"
   ]
  },
  {
   "cell_type": "code",
   "execution_count": 8,
   "metadata": {},
   "outputs": [
    {
     "name": "stdout",
     "output_type": "stream",
     "text": [
      "Two firm market. Algo (grid average) v human \n",
      "Super game: 1. P-value: 0.000\n",
      "Super game: 2. P-value: 0.005\n",
      "Super game: 3. P-value: 0.034\n"
     ]
    }
   ],
   "source": [
    "print(\"Two firm market. Algo (grid average) v human \")\n",
    "for sg in range(1,4):\n",
    "    subset_sg = data_group_level.loc[(data_group_level['super_game'] == sg) & \n",
    "                                      (data_group_level['treatment'] == '2H0A')].groupby(['super_group_id_general', 'treatment'], as_index=False)[['winning_price', 'collusive']].mean()\n",
    "\n",
    "    p_value = ttest_1samp(\n",
    "        subset_sg['winning_price'],\n",
    "        all_prices_2_agents_grid.mean(),\n",
    "        alternative='two-sided'\n",
    "    )[-1]\n",
    "    print(f\"Super game: {sg}. P-value: {p_value:.3f}\")"
   ]
  },
  {
   "cell_type": "code",
   "execution_count": 9,
   "metadata": {},
   "outputs": [
    {
     "name": "stdout",
     "output_type": "stream",
     "text": [
      "Average price of the grid in two firm markets: 3.511\n"
     ]
    }
   ],
   "source": [
    "print(f\"Average price of the grid in two firm markets: {all_prices_2_agents_grid.mean():.3f}\")"
   ]
  },
  {
   "cell_type": "markdown",
   "metadata": {},
   "source": [
    "Three firm market:\n"
   ]
  },
  {
   "cell_type": "code",
   "execution_count": 10,
   "metadata": {},
   "outputs": [
    {
     "name": "stdout",
     "output_type": "stream",
     "text": [
      "Three firm market. Algo (super star) v human \n",
      "Super game: 1. P-value: 0.000\n",
      "Super game: 2. P-value: 0.008\n",
      "Super game: 3. P-value: 0.980\n"
     ]
    }
   ],
   "source": [
    "print(\"Three firm market. Algo (super star) v human \")\n",
    "for sg in range(1,4):\n",
    "    subset_sg = data_group_level.loc[(data_group_level['super_game'] == sg) & \n",
    "                                     (data_group_level['treatment'] == '3H0A')].groupby(['super_group_id_general', 'treatment'], as_index=False)[['winning_price', 'collusive']].mean()\n",
    "\n",
    "    p_value = mannwhitneyu(\n",
    "        subset_sg['winning_price'],\n",
    "        super_star_avg_prices_3_agents,\n",
    "        use_continuity=False,\n",
    "        alternative='two-sided'\n",
    "    )[-1]\n",
    "    print(f\"Super game: {sg}. P-value: {p_value:.3f}\")"
   ]
  },
  {
   "cell_type": "code",
   "execution_count": 11,
   "metadata": {},
   "outputs": [
    {
     "name": "stdout",
     "output_type": "stream",
     "text": [
      "Two firm market. Algo (grid average) v human \n",
      "Super game: 1. P-value: 0.991\n",
      "Super game: 2. P-value: 0.339\n",
      "Super game: 3. P-value: 0.044\n"
     ]
    }
   ],
   "source": [
    "print(\"Two firm market. Algo (grid average) v human \")\n",
    "for sg in range(1,4):\n",
    "    subset_sg = data_group_level.loc[(data_group_level['super_game'] == sg) & \n",
    "                                      (data_group_level['treatment'] == '3H0A')].groupby(['super_group_id_general', 'treatment'], as_index=False)[['winning_price', 'collusive']].mean()\n",
    "\n",
    "    p_value = ttest_1samp(\n",
    "        subset_sg['winning_price'],\n",
    "        all_prices_3_agents_grid.mean(),\n",
    "        alternative='two-sided'\n",
    "    )[-1]\n",
    "    print(f\"Super game: {sg}. P-value: {p_value:.3f}\")"
   ]
  },
  {
   "cell_type": "code",
   "execution_count": 12,
   "metadata": {},
   "outputs": [
    {
     "name": "stdout",
     "output_type": "stream",
     "text": [
      "Average price of the grid in three firm markets: 1.574\n"
     ]
    }
   ],
   "source": [
    "print(f\"Average price of the grid in three firm markets: {all_prices_3_agents_grid.mean():.3f}\")"
   ]
  },
  {
   "cell_type": "markdown",
   "metadata": {},
   "source": [
    "There exist no statistically significant differences between the prices in the three firm markets with the super star algorithms and humans. Interestingly, the average algorithm from the grid search is *less* collusive than the human market with this difference being statistically significant at $p<0.01$."
   ]
  },
  {
   "cell_type": "markdown",
   "metadata": {},
   "source": [
    "# Algo v Algo"
   ]
  },
  {
   "cell_type": "markdown",
   "metadata": {},
   "source": [
    "See Algo analysis q_env.ipynb"
   ]
  },
  {
   "cell_type": "markdown",
   "metadata": {},
   "source": [
    "\n",
    "# Human v humans\n"
   ]
  },
  {
   "cell_type": "code",
   "execution_count": 13,
   "metadata": {},
   "outputs": [],
   "source": [
    "data_humans_first_super_game = data_group_level.loc[(data_group_level['super_game'] == 1) & \n",
    "                                                    (data_group_level['treatment'].isin(['3H0A', '2H0A']))].groupby(['super_group_id_general', 'treatment'], as_index=False)[['winning_price', 'collusive']].mean()\n",
    "data_humans_second_super_game = data_group_level.loc[(data_group_level['super_game'] == 2) & \n",
    "                                                    (data_group_level['treatment'].isin(['3H0A', '2H0A']))].groupby(['super_group_id_general', 'treatment'], as_index=False)[['winning_price', 'collusive']].mean()\n",
    "data_humans_third_super_game = data_group_level.loc[(data_group_level['super_game'] == 3) & \n",
    "                                                    (data_group_level['treatment'].isin(['3H0A', '2H0A']))].groupby(['super_group_id_general', 'treatment'], as_index=False)[['winning_price', 'collusive']].mean()\n"
   ]
  },
  {
   "cell_type": "code",
   "execution_count": 14,
   "metadata": {},
   "outputs": [],
   "source": [
    "data_humans_all_super_game = data_group_level.loc[\n",
    "                                                    (data_group_level['treatment'].isin(['3H0A', '2H0A']))].groupby(['super_group_id_general', 'treatment'], as_index=False)[['winning_price', 'collusive']].mean()\n"
   ]
  },
  {
   "cell_type": "code",
   "execution_count": 15,
   "metadata": {},
   "outputs": [
    {
     "data": {
      "text/plain": [
       "0.04530386472278079"
      ]
     },
     "execution_count": 15,
     "metadata": {},
     "output_type": "execute_result"
    }
   ],
   "source": [
    "mannwhitneyu(\n",
    "    data_humans_first_super_game.loc[data_humans_first_super_game['treatment'] == '3H0A']['winning_price'],\n",
    "    data_humans_first_super_game.loc[data_humans_first_super_game['treatment'] == '2H0A']['winning_price'],\n",
    "    use_continuity=False,\n",
    "    alternative='two-sided'\n",
    "\n",
    ")[-1]"
   ]
  },
  {
   "cell_type": "code",
   "execution_count": 16,
   "metadata": {},
   "outputs": [
    {
     "data": {
      "text/plain": [
       "0.050961936967763306"
      ]
     },
     "execution_count": 16,
     "metadata": {},
     "output_type": "execute_result"
    }
   ],
   "source": [
    "mannwhitneyu(\n",
    "    data_humans_second_super_game.loc[data_humans_second_super_game['treatment'] == '3H0A']['winning_price'],\n",
    "    data_humans_second_super_game.loc[data_humans_second_super_game['treatment'] == '2H0A']['winning_price'],\n",
    "    use_continuity=False,\n",
    "    alternative='two-sided'\n",
    "\n",
    ")[-1]"
   ]
  },
  {
   "cell_type": "code",
   "execution_count": 17,
   "metadata": {},
   "outputs": [
    {
     "data": {
      "text/plain": [
       "0.28275614744399247"
      ]
     },
     "execution_count": 17,
     "metadata": {},
     "output_type": "execute_result"
    }
   ],
   "source": [
    "mannwhitneyu(\n",
    "    data_humans_third_super_game.loc[data_humans_third_super_game['treatment'] == '3H0A']['winning_price'],\n",
    "    data_humans_third_super_game.loc[data_humans_third_super_game['treatment'] == '2H0A']['winning_price'],\n",
    "    use_continuity=False,\n",
    "    alternative='two-sided'\n",
    "\n",
    ")[-1]"
   ]
  },
  {
   "cell_type": "code",
   "execution_count": 18,
   "metadata": {},
   "outputs": [
    {
     "data": {
      "text/plain": [
       "0.04042397933690852"
      ]
     },
     "execution_count": 18,
     "metadata": {},
     "output_type": "execute_result"
    }
   ],
   "source": [
    "mannwhitneyu(\n",
    "    data_humans_all_super_game.loc[data_humans_all_super_game['treatment'] == '3H0A']['winning_price'],\n",
    "    data_humans_all_super_game.loc[data_humans_all_super_game['treatment'] == '2H0A']['winning_price'],\n",
    "    use_continuity=False,\n",
    "    alternative='two-sided'\n",
    "\n",
    ")[-1]"
   ]
  },
  {
   "cell_type": "markdown",
   "metadata": {},
   "source": [
    "This shows the importance of learning for humans, which appears to be more pronounce in larger and therefore strategically more complex markets."
   ]
  },
  {
   "cell_type": "markdown",
   "metadata": {},
   "source": [
    "# Mixed market analysis"
   ]
  },
  {
   "cell_type": "markdown",
   "metadata": {},
   "source": [
    "#### Analysis"
   ]
  },
  {
   "cell_type": "code",
   "execution_count": 19,
   "metadata": {},
   "outputs": [],
   "source": [
    "data_mixed_pooled = data_group_level.loc[(data_group_level['treatment'].isin(['3H0A', '2H0A', '1H1A', '2H1A', '1H2A'])\n",
    "                                                    )].groupby(['super_group_id_general', 'treatment'], as_index=False)[['winning_price', 'collusive']].mean()\n"
   ]
  },
  {
   "cell_type": "markdown",
   "metadata": {},
   "source": [
    "2H0A v 1H1A (pooled)"
   ]
  },
  {
   "cell_type": "code",
   "execution_count": 20,
   "metadata": {},
   "outputs": [
    {
     "data": {
      "text/plain": [
       "0.83563115352624"
      ]
     },
     "execution_count": 20,
     "metadata": {},
     "output_type": "execute_result"
    }
   ],
   "source": [
    "mannwhitneyu(\n",
    "    data_mixed_pooled.loc[data_mixed_pooled['treatment'] == '2H0A']['winning_price'],\n",
    "    data_mixed_pooled.loc[data_mixed_pooled['treatment'] == '1H1A']['winning_price'],\n",
    "    use_continuity=False,\n",
    "    alternative='two-sided'\n",
    ")[-1]\n"
   ]
  },
  {
   "cell_type": "markdown",
   "metadata": {},
   "source": [
    "1H1A v 0H2A "
   ]
  },
  {
   "cell_type": "code",
   "execution_count": 21,
   "metadata": {},
   "outputs": [
    {
     "data": {
      "text/plain": [
       "1.8164963552670638e-35"
      ]
     },
     "execution_count": 21,
     "metadata": {},
     "output_type": "execute_result"
    }
   ],
   "source": [
    "mannwhitneyu(\n",
    "    super_star_avg_prices_2_agents,\n",
    "    data_mixed_pooled.loc[data_mixed_pooled['treatment'] == '1H1A']['winning_price'],\n",
    "    use_continuity=False,\n",
    "    alternative='two-sided'\n",
    ")[-1]\n"
   ]
  },
  {
   "cell_type": "markdown",
   "metadata": {},
   "source": [
    "3H0A v 2H1A"
   ]
  },
  {
   "cell_type": "code",
   "execution_count": 22,
   "metadata": {},
   "outputs": [
    {
     "data": {
      "text/plain": [
       "0.06391934147515746"
      ]
     },
     "execution_count": 22,
     "metadata": {},
     "output_type": "execute_result"
    }
   ],
   "source": [
    "mannwhitneyu(\n",
    "data_mixed_pooled.loc[data_mixed_pooled['treatment'] == '3H0A']['winning_price'],\n",
    "data_mixed_pooled.loc[data_mixed_pooled['treatment'] == '2H1A']['winning_price'],\n",
    "use_continuity=False,\n",
    "alternative='two-sided'\n",
    "\n",
    ")[-1]\n"
   ]
  },
  {
   "cell_type": "markdown",
   "metadata": {},
   "source": [
    "2H1A v 1H2A"
   ]
  },
  {
   "cell_type": "code",
   "execution_count": 23,
   "metadata": {},
   "outputs": [
    {
     "data": {
      "text/plain": [
       "0.005276795014053497"
      ]
     },
     "execution_count": 23,
     "metadata": {},
     "output_type": "execute_result"
    }
   ],
   "source": [
    "mannwhitneyu(\n",
    "data_mixed_pooled.loc[data_mixed_pooled['treatment'] == '2H1A']['winning_price'],\n",
    "data_mixed_pooled.loc[data_mixed_pooled['treatment'] == '1H2A']['winning_price'],\n",
    "use_continuity=False,\n",
    "alternative='two-sided'\n",
    "\n",
    ")[-1]\n"
   ]
  },
  {
   "cell_type": "markdown",
   "metadata": {},
   "source": [
    "3H0A v 1H2A"
   ]
  },
  {
   "cell_type": "code",
   "execution_count": 24,
   "metadata": {},
   "outputs": [
    {
     "data": {
      "text/plain": [
       "0.17542896105941352"
      ]
     },
     "execution_count": 24,
     "metadata": {},
     "output_type": "execute_result"
    }
   ],
   "source": [
    "mannwhitneyu(\n",
    "    data_mixed_pooled.loc[data_mixed_pooled['treatment'] == '3H0A']['winning_price'],\n",
    "    data_mixed_pooled.loc[data_mixed_pooled['treatment'] == '1H2A']['winning_price'],\n",
    "    use_continuity=False,\n",
    "    alternative='two-sided'\n",
    "\n",
    ")[-1]\n"
   ]
  },
  {
   "cell_type": "markdown",
   "metadata": {},
   "source": [
    "1H2A v 0H3A"
   ]
  },
  {
   "cell_type": "code",
   "execution_count": 25,
   "metadata": {},
   "outputs": [
    {
     "data": {
      "text/plain": [
       "0.7564529590700199"
      ]
     },
     "execution_count": 25,
     "metadata": {},
     "output_type": "execute_result"
    }
   ],
   "source": [
    "mannwhitneyu(\n",
    "    super_star_avg_prices_3_agents,\n",
    "    data_mixed_pooled.loc[data_mixed_pooled['treatment'] == '1H2A']['winning_price'],\n",
    "    use_continuity=False,\n",
    "    alternative='two-sided'\n",
    ")[-1]\n"
   ]
  },
  {
   "cell_type": "code",
   "execution_count": 26,
   "metadata": {},
   "outputs": [
    {
     "data": {
      "text/plain": [
       "0.007433916182532387"
      ]
     },
     "execution_count": 26,
     "metadata": {},
     "output_type": "execute_result"
    }
   ],
   "source": [
    "mannwhitneyu(\n",
    "    super_star_avg_prices_3_agents,\n",
    "    data_mixed_pooled.loc[data_mixed_pooled['treatment'] == '3H0A']['winning_price'],\n",
    "    use_continuity=False,\n",
    "    alternative='two-sided'\n",
    ")[-1]\n"
   ]
  },
  {
   "cell_type": "markdown",
   "metadata": {},
   "source": [
    "# Weird states"
   ]
  },
  {
   "cell_type": "markdown",
   "metadata": {},
   "source": [
    "There are states that trigger responses by the algorithm that are different from the ones discussed in the paper. Below you see that those can account for only 1% of all rounds."
   ]
  },
  {
   "cell_type": "code",
   "execution_count": 27,
   "metadata": {},
   "outputs": [],
   "source": [
    "with open(ppj(\"OUT_DATA\", \"data_individual_level.pickle\"), \"rb\") as f:\n",
    "    data_individual_level = pickle.load(f)"
   ]
  },
  {
   "cell_type": "code",
   "execution_count": 28,
   "metadata": {},
   "outputs": [],
   "source": [
    "# Share of states where an algo play smth else than 1 or 4\n",
    "data_algos_group = data_group_level.loc[~data_group_level['treatment'].isin(['2H0A', '3H0A'])].copy()\n",
    "n_price_not_1_or_4 = data_algos_group.loc[~data_algos_group['price_algorithm'].isin([1,4])] \n"
   ]
  },
  {
   "cell_type": "code",
   "execution_count": 29,
   "metadata": {},
   "outputs": [],
   "source": [
    "data_algos = data_individual_level.loc[~data_individual_level['treatment'].isin(['2H0A', '3H0A'])].copy()"
   ]
  },
  {
   "cell_type": "code",
   "execution_count": 43,
   "metadata": {},
   "outputs": [
    {
     "data": {
      "text/plain": [
       "322    5.0\n",
       "617    5.0\n",
       "Name: price_lag_1, dtype: float64"
      ]
     },
     "execution_count": 43,
     "metadata": {},
     "output_type": "execute_result"
    }
   ],
   "source": [
    "data_algos.loc[(data_algos['price_algorithm'] == 4) & (~data_algos['price_lag_1'].isin([1,4])) & \n",
    "               (data_algos['round']>1)]"
   ]
  },
  {
   "cell_type": "code",
   "execution_count": 48,
   "metadata": {},
   "outputs": [
    {
     "data": {
      "text/plain": [
       "array(['2H0A', '1H1A', '3H0A', '2H1A', '1H2A'], dtype=object)"
      ]
     },
     "execution_count": 48,
     "metadata": {},
     "output_type": "execute_result"
    }
   ],
   "source": [
    "data_group_level['treatment'].unique()"
   ]
  },
  {
   "cell_type": "code",
   "execution_count": null,
   "metadata": {},
   "outputs": [],
   "source": []
  },
  {
   "cell_type": "code",
   "execution_count": 42,
   "metadata": {
    "scrolled": true
   },
   "outputs": [
    {
     "data": {
      "text/plain": [
       "0.010453850076491586"
      ]
     },
     "execution_count": 42,
     "metadata": {},
     "output_type": "execute_result"
    }
   ],
   "source": [
    "len(data_algos_group.loc[(data_algos_group['price_algorithm'] == 3) & (data_algos_group['treatment'] == '1H2A')]) / len(data_algos_group)"
   ]
  },
  {
   "cell_type": "code",
   "execution_count": 41,
   "metadata": {
    "scrolled": true
   },
   "outputs": [
    {
     "data": {
      "text/plain": [
       "0.013003569607343193"
      ]
     },
     "execution_count": 41,
     "metadata": {},
     "output_type": "execute_result"
    }
   ],
   "source": [
    "(len(n_price_not_1_or_4) + 2 )/ len(data_algos_group)"
   ]
  }
 ],
 "metadata": {
  "kernelspec": {
   "display_name": "Python 3",
   "language": "python",
   "name": "python3"
  },
  "language_info": {
   "codemirror_mode": {
    "name": "ipython",
    "version": 3
   },
   "file_extension": ".py",
   "mimetype": "text/x-python",
   "name": "python",
   "nbconvert_exporter": "python",
   "pygments_lexer": "ipython3",
   "version": "3.7.7"
  }
 },
 "nbformat": 4,
 "nbformat_minor": 4
}
