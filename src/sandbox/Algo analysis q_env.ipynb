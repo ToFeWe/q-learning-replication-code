{
 "cells": [
  {
   "cell_type": "code",
   "execution_count": 1,
   "id": "39c809ae",
   "metadata": {},
   "outputs": [],
   "source": [
    "# Do not delete this cell. It ensures that you can do the imports,\n",
    "# load datasets etc. in the same fashion as in any Python script\n",
    "# in the project template.\n",
    "\n",
    "\n",
    "import sys\n",
    "sys.path.insert(0, '../..')\n",
    "from bld.project_paths import project_paths_join as ppj\n",
    "from bld.project_paths import project_paths as pp\n",
    "\n"
   ]
  },
  {
   "cell_type": "code",
   "execution_count": 2,
   "id": "1d43174c",
   "metadata": {},
   "outputs": [],
   "source": [
    "import numpy as np\n",
    "import pickle\n",
    "%config Completer.use_jedi = False"
   ]
  },
  {
   "cell_type": "code",
   "execution_count": 3,
   "id": "c028c747",
   "metadata": {},
   "outputs": [],
   "source": [
    "# All grird\n",
    "with open(ppj(\"OUT_DATA\", f\"grid_3_agents.pickle\"), \"rb\") as f:\n",
    "    all_grids_3_agents = pickle.load(f)\n",
    "with open(ppj(\"OUT_DATA\", f\"grid_2_agents.pickle\"), \"rb\") as f:\n",
    "    all_grids_2_agents = pickle.load(f)\n",
    "# Super stars\n",
    "with open(ppj(\"OUT_DATA\", \"super_star_avg_prices_2_agents.pickle\"), \"rb\") as f:\n",
    "    super_star_avg_prices_2_agents = pickle.load(f)\n",
    "\n",
    "with open(ppj(\"OUT_DATA\", \"super_star_avg_prices_3_agents.pickle\"), \"rb\") as f:\n",
    "    super_star_avg_prices_3_agents = pickle.load(f)\n"
   ]
  },
  {
   "cell_type": "code",
   "execution_count": 4,
   "id": "96ac0d40",
   "metadata": {},
   "outputs": [
    {
     "data": {
      "text/plain": [
       "dict_keys(['state_profitability', 'weighted_profitability', 'best_response_share', 'avg_profit', 'avg_price', 'nash_equilibrium'])"
      ]
     },
     "execution_count": 4,
     "metadata": {},
     "output_type": "execute_result"
    }
   ],
   "source": [
    "all_grids_3_agents.keys()"
   ]
  },
  {
   "cell_type": "code",
   "execution_count": null,
   "id": "a19f95f5",
   "metadata": {},
   "outputs": [],
   "source": []
  },
  {
   "cell_type": "code",
   "execution_count": 5,
   "id": "e5aa5de4",
   "metadata": {},
   "outputs": [],
   "source": [
    "array_state_profits_3_agents = np.array(all_grids_3_agents['state_profitability'])\n",
    "array_state_profits_2_agents = np.array(all_grids_2_agents['state_profitability'])"
   ]
  },
  {
   "cell_type": "code",
   "execution_count": 6,
   "id": "04a0b39a",
   "metadata": {},
   "outputs": [],
   "source": [
    "array_avg_price_3_agents = np.array(all_grids_3_agents['avg_price'])\n",
    "array_avg_price_2_agents = np.array(all_grids_2_agents['avg_price'])"
   ]
  },
  {
   "cell_type": "code",
   "execution_count": 20,
   "id": "023f1b2a",
   "metadata": {},
   "outputs": [
    {
     "data": {
      "text/plain": [
       "0.9923"
      ]
     },
     "execution_count": 20,
     "metadata": {},
     "output_type": "execute_result"
    }
   ],
   "source": [
    "np.where(array_avg_price_3_agents.mean(axis=0) > 1,1,0).mean()"
   ]
  },
  {
   "cell_type": "code",
   "execution_count": 24,
   "id": "e11ce1a1",
   "metadata": {},
   "outputs": [
    {
     "data": {
      "text/plain": [
       "(1000, 100, 100)"
      ]
     },
     "execution_count": 24,
     "metadata": {},
     "output_type": "execute_result"
    }
   ],
   "source": [
    "array_avg_price_3_agents.shape"
   ]
  },
  {
   "cell_type": "code",
   "execution_count": 23,
   "id": "10d15f31",
   "metadata": {},
   "outputs": [
    {
     "data": {
      "text/plain": [
       "array([[1.        , 2.22422   , 2.07360433, ..., 1.807789  , 1.82088667,\n",
       "        1.796918  ],\n",
       "       [1.        , 2.34223833, 2.096866  , ..., 1.802933  , 1.79816067,\n",
       "        1.79477667],\n",
       "       [1.        , 2.31657   , 2.15623933, ..., 1.79830367, 1.788024  ,\n",
       "        1.79763667],\n",
       "       ...,\n",
       "       [1.        , 1.        , 1.003     , ..., 1.36052433, 1.30358433,\n",
       "        1.34739767],\n",
       "       [1.        , 1.        , 1.001     , ..., 1.34076233, 1.34100767,\n",
       "        1.357205  ],\n",
       "       [1.        , 1.001001  , 1.        , ..., 1.364419  , 1.349332  ,\n",
       "        1.34528967]])"
      ]
     },
     "execution_count": 23,
     "metadata": {},
     "output_type": "execute_result"
    }
   ],
   "source": [
    "array_avg_price_3_agents.mean(axis=0)"
   ]
  },
  {
   "cell_type": "code",
   "execution_count": 8,
   "id": "bf6443dd",
   "metadata": {},
   "outputs": [
    {
     "data": {
      "text/plain": [
       "1.0"
      ]
     },
     "execution_count": 8,
     "metadata": {},
     "output_type": "execute_result"
    }
   ],
   "source": [
    "(array_avg_price_2_agents.mean(axis=0) > 1).mean()"
   ]
  },
  {
   "cell_type": "code",
   "execution_count": 9,
   "id": "f551f4c4",
   "metadata": {},
   "outputs": [
    {
     "data": {
      "text/plain": [
       "0.9343"
      ]
     },
     "execution_count": 9,
     "metadata": {},
     "output_type": "execute_result"
    }
   ],
   "source": [
    "(array_avg_price_2_agents.mean(axis=0) > 3).mean()"
   ]
  },
  {
   "cell_type": "code",
   "execution_count": 10,
   "id": "91629215",
   "metadata": {},
   "outputs": [
    {
     "data": {
      "text/plain": [
       "2.411602333333334"
      ]
     },
     "execution_count": 10,
     "metadata": {},
     "output_type": "execute_result"
    }
   ],
   "source": [
    "array_avg_price_3_agents.mean(axis=0).max()"
   ]
  },
  {
   "cell_type": "code",
   "execution_count": 11,
   "id": "5ac4fa4f",
   "metadata": {},
   "outputs": [],
   "source": [
    "from scipy.stats import mannwhitneyu, ttest_1samp"
   ]
  },
  {
   "cell_type": "code",
   "execution_count": 12,
   "id": "2b7bb049",
   "metadata": {},
   "outputs": [],
   "source": [
    "import scipy"
   ]
  },
  {
   "cell_type": "markdown",
   "id": "8a46ea46",
   "metadata": {},
   "source": [
    "# Super star comparision:"
   ]
  },
  {
   "cell_type": "code",
   "execution_count": 13,
   "id": "2561dde5",
   "metadata": {},
   "outputs": [
    {
     "data": {
      "text/plain": [
       "0.0"
      ]
     },
     "execution_count": 13,
     "metadata": {},
     "output_type": "execute_result"
    }
   ],
   "source": [
    "mannwhitneyu(super_star_avg_prices_2_agents, super_star_avg_prices_3_agents, axis=0,\n",
    "            alternative='two-sided', use_continuity=False)[1]"
   ]
  },
  {
   "cell_type": "markdown",
   "id": "242a40cb",
   "metadata": {},
   "source": [
    "# Is there a grid point for which 0H3A is more collusive than 0H2A?"
   ]
  },
  {
   "cell_type": "code",
   "execution_count": 32,
   "id": "3fd01893",
   "metadata": {
    "scrolled": true
   },
   "outputs": [
    {
     "data": {
      "text/plain": [
       "1.4287117874546734e-208"
      ]
     },
     "execution_count": 32,
     "metadata": {},
     "output_type": "execute_result"
    }
   ],
   "source": [
    "all_p_values_2_agents = mannwhitneyu(array_avg_price_2_agents, array_avg_price_3_agents, axis=0,\n",
    "                                     alternative='two-sided', use_continuity=False)[1]\n",
    "all_p_values_2_agents.max()"
   ]
  },
  {
   "cell_type": "code",
   "execution_count": 33,
   "id": "a6f3b35d",
   "metadata": {},
   "outputs": [
    {
     "data": {
      "text/plain": [
       "2.8747849999999997"
      ]
     },
     "execution_count": 33,
     "metadata": {},
     "output_type": "execute_result"
    }
   ],
   "source": [
    "array_avg_price_2_agents.mean(axis=0).min()"
   ]
  },
  {
   "cell_type": "markdown",
   "id": "cb8cbeba",
   "metadata": {},
   "source": [
    "No!"
   ]
  },
  {
   "cell_type": "code",
   "execution_count": 15,
   "id": "5dcb4c2e",
   "metadata": {},
   "outputs": [
    {
     "data": {
      "text/plain": [
       "0.514"
      ]
     },
     "execution_count": 15,
     "metadata": {},
     "output_type": "execute_result"
    }
   ],
   "source": [
    "np.array(all_grids_2_agents['nash_equilibrium']).mean(axis=0).max()"
   ]
  }
 ],
 "metadata": {
  "kernelspec": {
   "display_name": "q_env",
   "language": "python",
   "name": "q_env"
  },
  "language_info": {
   "codemirror_mode": {
    "name": "ipython",
    "version": 3
   },
   "file_extension": ".py",
   "mimetype": "text/x-python",
   "name": "python",
   "nbconvert_exporter": "python",
   "pygments_lexer": "ipython3",
   "version": "3.7.7"
  }
 },
 "nbformat": 4,
 "nbformat_minor": 5
}
