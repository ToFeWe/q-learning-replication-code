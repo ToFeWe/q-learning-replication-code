{
 "cells": [
  {
   "cell_type": "code",
   "execution_count": 5,
   "id": "39c809ae",
   "metadata": {},
   "outputs": [],
   "source": [
    "# Do not delete this cell. It ensures that you can do the imports,\n",
    "# load datasets etc. in the same fashion as in any Python script\n",
    "# in the project template.\n",
    "\n",
    "\n",
    "import sys\n",
    "sys.path.insert(0, '../..')\n",
    "from bld.project_paths import project_paths_join as ppj\n",
    "from bld.project_paths import project_paths as pp\n",
    "\n"
   ]
  },
  {
   "cell_type": "code",
   "execution_count": 6,
   "id": "1d43174c",
   "metadata": {},
   "outputs": [],
   "source": [
    "import numpy as np\n",
    "import pickle\n",
    "%config Completer.use_jedi = False"
   ]
  },
  {
   "cell_type": "code",
   "execution_count": 7,
   "id": "c028c747",
   "metadata": {},
   "outputs": [],
   "source": [
    "with open(ppj(\"OUT_DATA\", f\"grid_3_agents.pickle\"), \"rb\") as f:\n",
    "    all_grids_3_agents = pickle.load(f)"
   ]
  },
  {
   "cell_type": "code",
   "execution_count": 8,
   "id": "96ac0d40",
   "metadata": {},
   "outputs": [
    {
     "data": {
      "text/plain": [
       "dict_keys(['state_profitability', 'weighted_profitability', 'best_response_share', 'avg_profit', 'avg_price', 'nash_equilibrium'])"
      ]
     },
     "execution_count": 8,
     "metadata": {},
     "output_type": "execute_result"
    }
   ],
   "source": [
    "all_grids_3_agents.keys()"
   ]
  },
  {
   "cell_type": "code",
   "execution_count": 9,
   "id": "a19f95f5",
   "metadata": {},
   "outputs": [],
   "source": [
    "with open(ppj(\"OUT_DATA\", f\"grid_2_agents.pickle\"), \"rb\") as f:\n",
    "    all_grids_2_agents = pickle.load(f)"
   ]
  },
  {
   "cell_type": "code",
   "execution_count": 10,
   "id": "e5aa5de4",
   "metadata": {},
   "outputs": [],
   "source": [
    "array_state_profits_3_agents = np.array(all_grids_3_agents['state_profitability'])\n",
    "array_state_profits_2_agents = np.array(all_grids_2_agents['state_profitability'])"
   ]
  },
  {
   "cell_type": "code",
   "execution_count": 11,
   "id": "04a0b39a",
   "metadata": {},
   "outputs": [],
   "source": [
    "array_avg_price_3_agents = np.array(all_grids_3_agents['avg_price'])\n",
    "array_avg_price_2_agents = np.array(all_grids_2_agents['avg_price'])"
   ]
  },
  {
   "cell_type": "code",
   "execution_count": 64,
   "id": "023f1b2a",
   "metadata": {},
   "outputs": [
    {
     "data": {
      "text/plain": [
       "0.9923"
      ]
     },
     "execution_count": 64,
     "metadata": {},
     "output_type": "execute_result"
    }
   ],
   "source": [
    "(array_avg_price_3_agents.mean(axis=0) > 1).mean()"
   ]
  },
  {
   "cell_type": "code",
   "execution_count": 13,
   "id": "bf6443dd",
   "metadata": {},
   "outputs": [
    {
     "data": {
      "text/plain": [
       "1.0"
      ]
     },
     "execution_count": 13,
     "metadata": {},
     "output_type": "execute_result"
    }
   ],
   "source": [
    "(array_avg_price_2_agents.mean(axis=0) > 1).mean()"
   ]
  },
  {
   "cell_type": "code",
   "execution_count": 68,
   "id": "f551f4c4",
   "metadata": {},
   "outputs": [
    {
     "data": {
      "text/plain": [
       "0.9343"
      ]
     },
     "execution_count": 68,
     "metadata": {},
     "output_type": "execute_result"
    }
   ],
   "source": [
    "(array_avg_price_2_agents.mean(axis=0) > 3).mean()"
   ]
  },
  {
   "cell_type": "code",
   "execution_count": 69,
   "id": "91629215",
   "metadata": {},
   "outputs": [
    {
     "data": {
      "text/plain": [
       "2.411602333333334"
      ]
     },
     "execution_count": 69,
     "metadata": {},
     "output_type": "execute_result"
    }
   ],
   "source": [
    "array_avg_price_3_agents.mean(axis=0).max()"
   ]
  },
  {
   "cell_type": "code",
   "execution_count": 44,
   "id": "5ac4fa4f",
   "metadata": {},
   "outputs": [],
   "source": [
    "from scipy.stats import mannwhitneyu, ttest_1samp"
   ]
  },
  {
   "cell_type": "code",
   "execution_count": 15,
   "id": "2b7bb049",
   "metadata": {},
   "outputs": [],
   "source": [
    "import scipy"
   ]
  },
  {
   "cell_type": "code",
   "execution_count": 43,
   "id": "3fd01893",
   "metadata": {
    "scrolled": true
   },
   "outputs": [
    {
     "data": {
      "text/plain": [
       "1.4287117874546734e-208"
      ]
     },
     "execution_count": 43,
     "metadata": {},
     "output_type": "execute_result"
    }
   ],
   "source": [
    "all_p_values_2_agents = mannwhitneyu(array_avg_price_2_agents, array_avg_price_3_agents, axis=0,\n",
    "                                     alternative='two-sided', use_continuity=False)[1]\n",
    "all_p_values_2_agents.max()"
   ]
  },
  {
   "cell_type": "code",
   "execution_count": 96,
   "id": "5dcb4c2e",
   "metadata": {},
   "outputs": [
    {
     "data": {
      "text/plain": [
       "0.514"
      ]
     },
     "execution_count": 96,
     "metadata": {},
     "output_type": "execute_result"
    }
   ],
   "source": [
    "np.array(all_grids_2_agents['nash_equilibrium']).mean(axis=0).max()"
   ]
  }
 ],
 "metadata": {
  "kernelspec": {
   "display_name": "q_env",
   "language": "python",
   "name": "q_env"
  },
  "language_info": {
   "codemirror_mode": {
    "name": "ipython",
    "version": 3
   },
   "file_extension": ".py",
   "mimetype": "text/x-python",
   "name": "python",
   "nbconvert_exporter": "python",
   "pygments_lexer": "ipython3",
   "version": "3.7.7"
  }
 },
 "nbformat": 4,
 "nbformat_minor": 5
}
