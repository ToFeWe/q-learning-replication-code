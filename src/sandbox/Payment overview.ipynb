{
 "cells": [
  {
   "cell_type": "code",
   "execution_count": 1,
   "metadata": {},
   "outputs": [],
   "source": [
    "# Do not delete this cell. It ensures that you can do the imports,\n",
    "# load datasets etc. in the same fashion as in any Python script\n",
    "# in the project template.\n",
    "\n",
    "\n",
    "import sys\n",
    "sys.path.insert(0, '../..')\n",
    "from bld.project_paths import project_paths_join as ppj\n",
    "from bld.project_paths import project_paths as pp\n",
    "\n"
   ]
  },
  {
   "cell_type": "code",
   "execution_count": 2,
   "metadata": {},
   "outputs": [],
   "source": [
    "import numpy as np\n",
    "import json\n",
    "import pickle\n",
    "import pandas as pd\n",
    "from scipy.stats import sem\n",
    "import seaborn as sns\n",
    "import matplotlib.pyplot as plt\n",
    "%config Completer.use_jedi = False\n",
    "\n",
    "from matplotlib import rc\n",
    "rc('text', usetex=True)\n"
   ]
  },
  {
   "cell_type": "code",
   "execution_count": 7,
   "metadata": {},
   "outputs": [],
   "source": [
    "with open(\n",
    "    ppj(\"IN_DATA\", f\"session_info_experiments.json\")\n",
    ") as f:\n",
    "    SESSION_INFO = json.load(f)\n"
   ]
  },
  {
   "cell_type": "code",
   "execution_count": 102,
   "metadata": {},
   "outputs": [],
   "source": [
    "data_list = []\n",
    "for session_id, session_info in SESSION_INFO.items():\n",
    "    current_data = pd.read_csv(ppj(\"IN_DATA\", session_info['path']))\n",
    "    current_data['session_id'] = session_id\n",
    "    data_list.append(current_data)\n",
    "data_all = pd.concat(data_list)"
   ]
  },
  {
   "cell_type": "code",
   "execution_count": 218,
   "metadata": {},
   "outputs": [
    {
     "data": {
      "text/plain": [
       "11.395201129146084"
      ]
     },
     "execution_count": 218,
     "metadata": {},
     "output_type": "execute_result"
    }
   ],
   "source": [
    "(data_all['participant.payoff'] / 130 + 4).mean()"
   ]
  },
  {
   "cell_type": "code",
   "execution_count": 131,
   "metadata": {},
   "outputs": [],
   "source": [
    "info_dict = {\n",
    "    'algos_to_draw':\n",
    "        {\n",
    "            '1H1A': 32,\n",
    "            '1H2A': 42,\n",
    "            '2H1A': 21,\n",
    "        },\n",
    "    'relevant_payoff_field_by_sg':\n",
    "        {\n",
    "            1: 'bertrand.25.group.accumulated_profit_algorithm',\n",
    "            2: 'bertrand_SG_2.17.group.accumulated_profit_algorithm',\n",
    "            3: 'bertrand_SG_3.11.group.accumulated_profit_algorithm'\n",
    "        },\n",
    "    'grouping_field_by_sg':\n",
    "    {\n",
    "        1: 'bertrand.1.group.id_in_subsession',\n",
    "        2: 'bertrand_SG_2.1.group.id_in_subsession',\n",
    "        3: 'bertrand_SG_3.1.group.id_in_subsession',\n",
    "\n",
    "    }\n",
    "}"
   ]
  },
  {
   "cell_type": "code",
   "execution_count": 208,
   "metadata": {},
   "outputs": [],
   "source": [
    "# Draw the super games that are paid for each treatment\n",
    "np.random.seed(267) # Todays day as a random seed\n",
    "sg_paid = np.random.randint(1,4,3)\n",
    "treatments_list = ['1H1A', '1H2A', '2H1A']\n"
   ]
  },
  {
   "cell_type": "code",
   "execution_count": 228,
   "metadata": {},
   "outputs": [],
   "source": [
    "all_payoffs = []\n",
    "\n",
    "for treatment, paid_sg in zip(treatments_list, sg_paid):\n",
    "    relevant_subset = data_all.loc[data_all['bertrand.1.group.group_treatment'] == treatment].copy()\n",
    "    relevant_payment_data = data_all.loc[\n",
    "                                data_all['bertrand.1.group.group_treatment'] == treatment\n",
    "                            ].groupby(\n",
    "                                ['session_id', info_dict['grouping_field_by_sg'][paid_sg]]\n",
    "                            )[info_dict['relevant_payoff_field_by_sg'][paid_sg]].mean().values.flatten()\n",
    "\n",
    "    if treatment == '1H1A':\n",
    "        assert len(relevant_subset) == info_dict['algos_to_draw'][treatment]\n",
    "        all_payoffs.append(relevant_payment_data)\n",
    "    elif treatment == '1H2A':\n",
    "        assert len(relevant_subset) == info_dict['algos_to_draw'][treatment] / 2\n",
    "        # In the 1H2A treatment, each values has to be repeated twice as there are two \n",
    "        # identical algos in each market \n",
    "        all_payoffs.append(np.repeat(relevant_payment_data, 2))\n",
    "\n",
    "    elif treatment == '2H1A':\n",
    "        assert len(relevant_subset) == info_dict['algos_to_draw'][treatment] * 2\n",
    "        # Here for each group there exists only on algorithm\n",
    "        # Note that the way how we create the *relevant_payment_data* object\n",
    "        # already accounts for that.\n",
    "        all_payoffs.append(relevant_payment_data)\n",
    "        \n",
    "all_payoffs_with_show_up_euro = (np.concatenate(all_payoffs) / 130 + 4).round(2)\n"
   ]
  },
  {
   "cell_type": "code",
   "execution_count": 231,
   "metadata": {},
   "outputs": [
    {
     "data": {
      "text/html": [
       "<div>\n",
       "<style scoped>\n",
       "    .dataframe tbody tr th:only-of-type {\n",
       "        vertical-align: middle;\n",
       "    }\n",
       "\n",
       "    .dataframe tbody tr th {\n",
       "        vertical-align: top;\n",
       "    }\n",
       "\n",
       "    .dataframe thead th {\n",
       "        text-align: right;\n",
       "    }\n",
       "</style>\n",
       "<table border=\"1\" class=\"dataframe\">\n",
       "  <thead>\n",
       "    <tr style=\"text-align: right;\">\n",
       "      <th></th>\n",
       "      <th>payments</th>\n",
       "    </tr>\n",
       "  </thead>\n",
       "  <tbody>\n",
       "    <tr>\n",
       "      <th>0</th>\n",
       "      <td>5.85</td>\n",
       "    </tr>\n",
       "    <tr>\n",
       "      <th>1</th>\n",
       "      <td>19.69</td>\n",
       "    </tr>\n",
       "    <tr>\n",
       "      <th>2</th>\n",
       "      <td>8.62</td>\n",
       "    </tr>\n",
       "    <tr>\n",
       "      <th>3</th>\n",
       "      <td>19.69</td>\n",
       "    </tr>\n",
       "    <tr>\n",
       "      <th>4</th>\n",
       "      <td>19.69</td>\n",
       "    </tr>\n",
       "    <tr>\n",
       "      <th>...</th>\n",
       "      <td>...</td>\n",
       "    </tr>\n",
       "    <tr>\n",
       "      <th>90</th>\n",
       "      <td>6.08</td>\n",
       "    </tr>\n",
       "    <tr>\n",
       "      <th>91</th>\n",
       "      <td>8.69</td>\n",
       "    </tr>\n",
       "    <tr>\n",
       "      <th>92</th>\n",
       "      <td>7.08</td>\n",
       "    </tr>\n",
       "    <tr>\n",
       "      <th>93</th>\n",
       "      <td>7.15</td>\n",
       "    </tr>\n",
       "    <tr>\n",
       "      <th>94</th>\n",
       "      <td>9.38</td>\n",
       "    </tr>\n",
       "  </tbody>\n",
       "</table>\n",
       "<p>95 rows × 1 columns</p>\n",
       "</div>"
      ],
      "text/plain": [
       "    payments\n",
       "0       5.85\n",
       "1      19.69\n",
       "2       8.62\n",
       "3      19.69\n",
       "4      19.69\n",
       "..       ...\n",
       "90      6.08\n",
       "91      8.69\n",
       "92      7.08\n",
       "93      7.15\n",
       "94      9.38\n",
       "\n",
       "[95 rows x 1 columns]"
      ]
     },
     "execution_count": 231,
     "metadata": {},
     "output_type": "execute_result"
    }
   ],
   "source": [
    "pd.DataFrame(all_payoffs_with_show_up_euro, columns=['payments'])"
   ]
  },
  {
   "cell_type": "code",
   "execution_count": 221,
   "metadata": {},
   "outputs": [],
   "source": [
    "with open(ppj(\"OUT_DATA\", \"data_individual_level.pickle\"), \"rb\") as f:\n",
    "    data_individual_level = pickle.load(f)"
   ]
  },
  {
   "cell_type": "code",
   "execution_count": 226,
   "metadata": {},
   "outputs": [
    {
     "data": {
      "text/plain": [
       "{'1H1A': 32, '1H2A': 21, '2H0A': 60, '2H1A': 42, '3H0A': 63}"
      ]
     },
     "execution_count": 226,
     "metadata": {},
     "output_type": "execute_result"
    }
   ],
   "source": [
    "data_individual_level.loc[(data_individual_level['super_game'] == 1) &\n",
    "                          (data_individual_level['round'] == 1)].groupby(['treatment'])['participant.code'].count().to_dict()"
   ]
  }
 ],
 "metadata": {
  "kernelspec": {
   "display_name": "Python 3",
   "language": "python",
   "name": "python3"
  },
  "language_info": {
   "codemirror_mode": {
    "name": "ipython",
    "version": 3
   },
   "file_extension": ".py",
   "mimetype": "text/x-python",
   "name": "python",
   "nbconvert_exporter": "python",
   "pygments_lexer": "ipython3",
   "version": "3.7.7"
  }
 },
 "nbformat": 4,
 "nbformat_minor": 4
}
