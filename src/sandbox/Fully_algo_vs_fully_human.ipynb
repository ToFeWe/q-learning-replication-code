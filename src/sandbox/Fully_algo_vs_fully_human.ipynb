{
 "cells": [
  {
   "cell_type": "code",
   "execution_count": 1,
   "metadata": {},
   "outputs": [],
   "source": [
    "# Do not delete this cell. It ensures that you can do the imports,\n",
    "# load datasets etc. in the same fashion as in any Python script\n",
    "# in the project template.\n",
    "\n",
    "\n",
    "import sys\n",
    "sys.path.insert(0, '../..')\n",
    "from bld.project_paths import project_paths_join as ppj\n",
    "from bld.project_paths import project_paths as pp\n",
    "\n"
   ]
  },
  {
   "cell_type": "code",
   "execution_count": 66,
   "metadata": {},
   "outputs": [],
   "source": [
    "import numpy as np\n",
    "import json\n",
    "import pickle\n",
    "%config Completer.use_jedi = False\n",
    "\n"
   ]
  },
  {
   "cell_type": "code",
   "execution_count": 167,
   "metadata": {},
   "outputs": [],
   "source": [
    "with open(ppj(\"OUT_DATA\", \"super_star_avg_prices_2_agents.pickle\"), \"rb\") as f:\n",
    "    super_star_avg_prices_2_agents = pickle.load(f)"
   ]
  },
  {
   "cell_type": "code",
   "execution_count": 168,
   "metadata": {},
   "outputs": [
    {
     "data": {
      "text/plain": [
       "(1000,)"
      ]
     },
     "execution_count": 168,
     "metadata": {},
     "output_type": "execute_result"
    }
   ],
   "source": [
    "super_star_avg_prices_2_agents.shape"
   ]
  },
  {
   "cell_type": "code",
   "execution_count": 169,
   "metadata": {},
   "outputs": [],
   "source": [
    "with open(ppj(\"OUT_DATA\", \"data_group_level.pickle\"), \"rb\") as f:\n",
    "    data_group_level = pickle.load(f)"
   ]
  },
  {
   "cell_type": "code",
   "execution_count": 170,
   "metadata": {},
   "outputs": [
    {
     "data": {
      "text/html": [
       "<div>\n",
       "<style scoped>\n",
       "    .dataframe tbody tr th:only-of-type {\n",
       "        vertical-align: middle;\n",
       "    }\n",
       "\n",
       "    .dataframe tbody tr th {\n",
       "        vertical-align: top;\n",
       "    }\n",
       "\n",
       "    .dataframe thead th {\n",
       "        text-align: right;\n",
       "    }\n",
       "</style>\n",
       "<table border=\"1\" class=\"dataframe\">\n",
       "  <thead>\n",
       "    <tr style=\"text-align: right;\">\n",
       "      <th></th>\n",
       "      <th>round</th>\n",
       "      <th>super_game</th>\n",
       "      <th>r_sg</th>\n",
       "      <th>group_id_general</th>\n",
       "      <th>treatment</th>\n",
       "      <th>winning_price</th>\n",
       "      <th>collusive</th>\n",
       "      <th>super_group_id_general</th>\n",
       "      <th>price_algorithm</th>\n",
       "    </tr>\n",
       "  </thead>\n",
       "  <tbody>\n",
       "    <tr>\n",
       "      <th>0</th>\n",
       "      <td>1.0</td>\n",
       "      <td>1.0</td>\n",
       "      <td>0</td>\n",
       "      <td>session_20052021_1000_1</td>\n",
       "      <td>2H0A</td>\n",
       "      <td>3.0</td>\n",
       "      <td>0</td>\n",
       "      <td>session_20052021_1000_1</td>\n",
       "      <td>NaN</td>\n",
       "    </tr>\n",
       "    <tr>\n",
       "      <th>2</th>\n",
       "      <td>1.0</td>\n",
       "      <td>1.0</td>\n",
       "      <td>0</td>\n",
       "      <td>session_20052021_1000_2</td>\n",
       "      <td>2H0A</td>\n",
       "      <td>1.0</td>\n",
       "      <td>0</td>\n",
       "      <td>session_20052021_1000_1</td>\n",
       "      <td>NaN</td>\n",
       "    </tr>\n",
       "    <tr>\n",
       "      <th>4</th>\n",
       "      <td>1.0</td>\n",
       "      <td>1.0</td>\n",
       "      <td>0</td>\n",
       "      <td>session_20052021_1000_3</td>\n",
       "      <td>2H0A</td>\n",
       "      <td>2.0</td>\n",
       "      <td>1</td>\n",
       "      <td>session_20052021_1000_1</td>\n",
       "      <td>NaN</td>\n",
       "    </tr>\n",
       "    <tr>\n",
       "      <th>6</th>\n",
       "      <td>1.0</td>\n",
       "      <td>1.0</td>\n",
       "      <td>0</td>\n",
       "      <td>session_20052021_1000_4</td>\n",
       "      <td>2H0A</td>\n",
       "      <td>1.0</td>\n",
       "      <td>0</td>\n",
       "      <td>session_20052021_1000_2</td>\n",
       "      <td>NaN</td>\n",
       "    </tr>\n",
       "    <tr>\n",
       "      <th>8</th>\n",
       "      <td>1.0</td>\n",
       "      <td>1.0</td>\n",
       "      <td>0</td>\n",
       "      <td>session_20052021_1000_5</td>\n",
       "      <td>2H0A</td>\n",
       "      <td>3.0</td>\n",
       "      <td>0</td>\n",
       "      <td>session_20052021_1000_2</td>\n",
       "      <td>NaN</td>\n",
       "    </tr>\n",
       "    <tr>\n",
       "      <th>...</th>\n",
       "      <td>...</td>\n",
       "      <td>...</td>\n",
       "      <td>...</td>\n",
       "      <td>...</td>\n",
       "      <td>...</td>\n",
       "      <td>...</td>\n",
       "      <td>...</td>\n",
       "      <td>...</td>\n",
       "      <td>...</td>\n",
       "    </tr>\n",
       "    <tr>\n",
       "      <th>460</th>\n",
       "      <td>10.0</td>\n",
       "      <td>3.0</td>\n",
       "      <td>51</td>\n",
       "      <td>session_08062021_1630_3H0A_2</td>\n",
       "      <td>3H0A</td>\n",
       "      <td>4.0</td>\n",
       "      <td>1</td>\n",
       "      <td>session_08062021_1630_3H0A_1</td>\n",
       "      <td>NaN</td>\n",
       "    </tr>\n",
       "    <tr>\n",
       "      <th>461</th>\n",
       "      <td>10.0</td>\n",
       "      <td>3.0</td>\n",
       "      <td>51</td>\n",
       "      <td>session_08062021_1630_3H0A_3</td>\n",
       "      <td>3H0A</td>\n",
       "      <td>4.0</td>\n",
       "      <td>1</td>\n",
       "      <td>session_08062021_1630_3H0A_1</td>\n",
       "      <td>NaN</td>\n",
       "    </tr>\n",
       "    <tr>\n",
       "      <th>468</th>\n",
       "      <td>11.0</td>\n",
       "      <td>3.0</td>\n",
       "      <td>52</td>\n",
       "      <td>session_08062021_1630_3H0A_1</td>\n",
       "      <td>3H0A</td>\n",
       "      <td>4.0</td>\n",
       "      <td>1</td>\n",
       "      <td>session_08062021_1630_3H0A_1</td>\n",
       "      <td>NaN</td>\n",
       "    </tr>\n",
       "    <tr>\n",
       "      <th>469</th>\n",
       "      <td>11.0</td>\n",
       "      <td>3.0</td>\n",
       "      <td>52</td>\n",
       "      <td>session_08062021_1630_3H0A_2</td>\n",
       "      <td>3H0A</td>\n",
       "      <td>4.0</td>\n",
       "      <td>1</td>\n",
       "      <td>session_08062021_1630_3H0A_1</td>\n",
       "      <td>NaN</td>\n",
       "    </tr>\n",
       "    <tr>\n",
       "      <th>470</th>\n",
       "      <td>11.0</td>\n",
       "      <td>3.0</td>\n",
       "      <td>52</td>\n",
       "      <td>session_08062021_1630_3H0A_3</td>\n",
       "      <td>3H0A</td>\n",
       "      <td>4.0</td>\n",
       "      <td>1</td>\n",
       "      <td>session_08062021_1630_3H0A_1</td>\n",
       "      <td>NaN</td>\n",
       "    </tr>\n",
       "  </tbody>\n",
       "</table>\n",
       "<p>6466 rows × 9 columns</p>\n",
       "</div>"
      ],
      "text/plain": [
       "     round  super_game  r_sg              group_id_general treatment  \\\n",
       "0      1.0         1.0     0       session_20052021_1000_1      2H0A   \n",
       "2      1.0         1.0     0       session_20052021_1000_2      2H0A   \n",
       "4      1.0         1.0     0       session_20052021_1000_3      2H0A   \n",
       "6      1.0         1.0     0       session_20052021_1000_4      2H0A   \n",
       "8      1.0         1.0     0       session_20052021_1000_5      2H0A   \n",
       "..     ...         ...   ...                           ...       ...   \n",
       "460   10.0         3.0    51  session_08062021_1630_3H0A_2      3H0A   \n",
       "461   10.0         3.0    51  session_08062021_1630_3H0A_3      3H0A   \n",
       "468   11.0         3.0    52  session_08062021_1630_3H0A_1      3H0A   \n",
       "469   11.0         3.0    52  session_08062021_1630_3H0A_2      3H0A   \n",
       "470   11.0         3.0    52  session_08062021_1630_3H0A_3      3H0A   \n",
       "\n",
       "     winning_price  collusive        super_group_id_general  price_algorithm  \n",
       "0              3.0          0       session_20052021_1000_1              NaN  \n",
       "2              1.0          0       session_20052021_1000_1              NaN  \n",
       "4              2.0          1       session_20052021_1000_1              NaN  \n",
       "6              1.0          0       session_20052021_1000_2              NaN  \n",
       "8              3.0          0       session_20052021_1000_2              NaN  \n",
       "..             ...        ...                           ...              ...  \n",
       "460            4.0          1  session_08062021_1630_3H0A_1              NaN  \n",
       "461            4.0          1  session_08062021_1630_3H0A_1              NaN  \n",
       "468            4.0          1  session_08062021_1630_3H0A_1              NaN  \n",
       "469            4.0          1  session_08062021_1630_3H0A_1              NaN  \n",
       "470            4.0          1  session_08062021_1630_3H0A_1              NaN  \n",
       "\n",
       "[6466 rows x 9 columns]"
      ]
     },
     "execution_count": 170,
     "metadata": {},
     "output_type": "execute_result"
    }
   ],
   "source": [
    "data_group_level"
   ]
  },
  {
   "cell_type": "code",
   "execution_count": 171,
   "metadata": {},
   "outputs": [],
   "source": [
    "data_last_super_game = data_group_level.loc[data_group_level['super_game'] == 3].groupby(['super_group_id_general', 'treatment'], as_index=False)[['winning_price']].mean()"
   ]
  },
  {
   "cell_type": "code",
   "execution_count": 172,
   "metadata": {},
   "outputs": [],
   "source": [
    "from scipy.stats import mannwhitneyu"
   ]
  },
  {
   "cell_type": "code",
   "execution_count": 176,
   "metadata": {},
   "outputs": [
    {
     "data": {
      "text/plain": [
       "MannwhitneyuResult(statistic=610.5, pvalue=1.238724771685483e-19)"
      ]
     },
     "execution_count": 176,
     "metadata": {},
     "output_type": "execute_result"
    }
   ],
   "source": [
    "mannwhitneyu(\n",
    "    data_last_super_game.loc[data_last_super_game['treatment'] == '2H0A']['winning_price'],\n",
    "    super_star_avg_prices_2_agents\n",
    ")"
   ]
  }
 ],
 "metadata": {
  "kernelspec": {
   "display_name": "Python 3",
   "language": "python",
   "name": "python3"
  },
  "language_info": {
   "codemirror_mode": {
    "name": "ipython",
    "version": 3
   },
   "file_extension": ".py",
   "mimetype": "text/x-python",
   "name": "python",
   "nbconvert_exporter": "python",
   "pygments_lexer": "ipython3",
   "version": "3.7.7"
  }
 },
 "nbformat": 4,
 "nbformat_minor": 4
}
