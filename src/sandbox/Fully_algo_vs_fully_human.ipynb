{
 "cells": [
  {
   "cell_type": "code",
   "execution_count": 1,
   "metadata": {},
   "outputs": [],
   "source": [
    "# Do not delete this cell. It ensures that you can do the imports,\n",
    "# load datasets etc. in the same fashion as in any Python script\n",
    "# in the project template.\n",
    "\n",
    "\n",
    "import sys\n",
    "sys.path.insert(0, '../..')\n",
    "from bld.project_paths import project_paths_join as ppj\n",
    "from bld.project_paths import project_paths as pp\n",
    "\n"
   ]
  },
  {
   "cell_type": "code",
   "execution_count": 77,
   "metadata": {},
   "outputs": [],
   "source": [
    "import numpy as np\n",
    "import json\n",
    "import pickle\n",
    "import pandas as pd\n",
    "from scipy.stats import sem\n",
    "import seaborn as sns\n",
    "import matplotlib.pyplot as plt\n",
    "%config Completer.use_jedi = False\n",
    "\n",
    "from matplotlib import rc\n",
    "rc('text', usetex=True)\n",
    "plt.rcParams.update({'font.size': 20})\n"
   ]
  },
  {
   "cell_type": "markdown",
   "metadata": {},
   "source": [
    "# Are fully algortihmic markets more collusive than fully human markets?\n",
    "\n",
    "To answer this question we will compare the outcomes for the algorithmic market to the outcomes in the last super game of the human markets. We focus on the last super game as this allowed humans for some learning. Arguably this is the most accurate comparision."
   ]
  },
  {
   "cell_type": "markdown",
   "metadata": {},
   "source": [
    "First we load the needed data."
   ]
  },
  {
   "cell_type": "code",
   "execution_count": 3,
   "metadata": {},
   "outputs": [],
   "source": [
    "# Two firm algorithm markets\n",
    "with open(ppj(\"OUT_DATA\", \"entire_price_grid_avg_prices_2_agents.pickle\"), \"rb\") as f:\n",
    "    entire_price_grid_avg_prices_2_agents = pickle.load(f)\n",
    "with open(ppj(\"OUT_DATA\", \"super_star_avg_prices_2_agents.pickle\"), \"rb\") as f:\n",
    "    super_star_avg_prices_2_agents = pickle.load(f)\n",
    "\n",
    "# Three firm algorithm markets\n",
    "with open(ppj(\"OUT_DATA\", \"entire_price_grid_avg_prices_3_agents.pickle\"), \"rb\") as f:\n",
    "    entire_price_grid_avg_prices_3_agents = pickle.load(f)\n",
    "with open(ppj(\"OUT_DATA\", \"super_star_avg_prices_3_agents.pickle\"), \"rb\") as f:\n",
    "    super_star_avg_prices_3_agents = pickle.load(f)\n"
   ]
  },
  {
   "cell_type": "code",
   "execution_count": 4,
   "metadata": {},
   "outputs": [],
   "source": [
    "# we want to transform those to pandas dataframes as it will be easier to deal with them once we go over to plotting"
   ]
  },
  {
   "cell_type": "code",
   "execution_count": 5,
   "metadata": {},
   "outputs": [],
   "source": [
    "with open(ppj(\"OUT_DATA\", \"data_group_level.pickle\"), \"rb\") as f:\n",
    "    data_group_level = pickle.load(f)"
   ]
  },
  {
   "cell_type": "markdown",
   "metadata": {},
   "source": [
    "For the human data, we only need a subset for the last super game of the experiment. Furthermore, we need to take the mean across all round in this super game for each independent matching group to get the repsective independent observations."
   ]
  },
  {
   "cell_type": "code",
   "execution_count": 6,
   "metadata": {},
   "outputs": [],
   "source": [
    "data_last_super_game = data_group_level.loc[data_group_level['super_game'] == 3].groupby(['super_group_id_general', 'treatment'], as_index=False)[['winning_price', 'collusive']].mean()\n",
    "data_humans = data_last_super_game.loc[data_last_super_game['treatment'].isin(['3H0A', '2H0A'])].copy()\n"
   ]
  },
  {
   "cell_type": "code",
   "execution_count": 105,
   "metadata": {},
   "outputs": [],
   "source": [
    "# To make the plotting easier, we write the data into a structured dict\n",
    "plotting_dict = {}\n",
    "\n",
    "\n",
    "# First the fully human markets\n",
    "plotting_dict['Humans'] = {}\n",
    "plotting_dict['Humans']['means'] = list()\n",
    "plotting_dict['Humans']['means'].extend(\n",
    "                                    [data_humans.loc[data_humans['treatment'] == '2H0A']['winning_price'].mean(),\n",
    "                                     data_humans.loc[data_humans['treatment'] == '3H0A']['winning_price'].mean()]\n",
    "                                )\n",
    "plotting_dict['Humans']['std'] = list()\n",
    "plotting_dict['Humans']['std'].extend(\n",
    "                                    [data_humans.loc[data_humans['treatment'] == '2H0A']['winning_price'].std(),\n",
    "                                     data_humans.loc[data_humans['treatment'] == '3H0A']['winning_price'].std()]\n",
    "                                )\n",
    "\n",
    "# Now the algorithm markets\n",
    "# First the super star\n",
    "\n",
    "plotting_dict['Best algorithm'] = {}\n",
    "plotting_dict['Best algorithm']['means'] = list()\n",
    "plotting_dict['Best algorithm']['means'].extend(\n",
    "                                                [super_star_avg_prices_2_agents.mean(),\n",
    "                                                super_star_avg_prices_3_agents.mean()]\n",
    "                                               )\n",
    "plotting_dict['Best algorithm']['std'] = list()\n",
    "plotting_dict['Best algorithm']['std'].extend(\n",
    "                                                [super_star_avg_prices_2_agents.std(),\n",
    "                                                 super_star_avg_prices_3_agents.std()]\n",
    "                                               )\n",
    "\n",
    "plotting_dict['Average algorithm'] = {}\n",
    "plotting_dict['Average algorithm']['means'] = list()\n",
    "plotting_dict['Average algorithm']['means'].extend(\n",
    "                                                [entire_price_grid_avg_prices_2_agents.mean(),\n",
    "                                                entire_price_grid_avg_prices_3_agents.mean()]\n",
    "                                               )\n",
    "plotting_dict['Average algorithm']['std'] = list()\n",
    "plotting_dict['Average algorithm']['std'].extend(\n",
    "                                                [entire_price_grid_avg_prices_2_agents.std(),\n",
    "                                                 entire_price_grid_avg_prices_3_agents.std()]\n",
    "                                               )"
   ]
  },
  {
   "cell_type": "code",
   "execution_count": 110,
   "metadata": {},
   "outputs": [
    {
     "data": {
      "image/png": "[encoded data removed]",
      "text/plain": [
       "<Figure size 1332x756 with 1 Axes>"
      ]
     },
     "metadata": {
      "needs_background": "light"
     },
     "output_type": "display_data"
    }
   ],
   "source": [
    "# set width of bar\n",
    "barWidth = 0.17\n",
    "distance = 0\n",
    "all_colors = sns.color_palette('colorblind')\n",
    "\n",
    "fig, ax = plt.subplots(1)\n",
    "fig.set_size_inches(18.5, 10.5)\n",
    "\n",
    "\n",
    "\n",
    "\n",
    "all_groups = ['Humans', 'Best algorithm', 'Average algorithm']\n",
    "\n",
    "\n",
    "\n",
    "\n",
    "\n",
    "\n",
    "all_r = [np.arange(2) + barWidth*x for x in range(3)] \n",
    "\n",
    "# Make the plot\n",
    "for ix_group, group in enumerate(all_groups):\n",
    "    ax.bar(all_r[ix_group], plotting_dict[group]['means'],\n",
    "           yerr=plotting_dict[group]['std'],\n",
    "           color=all_colors[ix_group], width=barWidth, edgecolor='white',\n",
    "           label=group, capsize=4)\n",
    "\n",
    "ax.set_ylim([0,5])\n",
    "ax.set_ylabel('Mean market price')\n",
    "\n",
    "\n",
    "# Create the label (mean price) over the error bar\n",
    "rects = ax.patches\n",
    "all_means = list(np.array([plotting_dict[group]['means']  for group in all_groups]).flat)\n",
    "all_sem = list(np.array([plotting_dict[group]['std']  for group in all_groups]).flat)\n",
    "labels = ['%.3f' % elem for elem in all_means]\n",
    "distances = all_sem\n",
    "\n",
    "label_ticks_pos = []\n",
    "for rect, label, distance in zip(rects, labels, distances):\n",
    "    height = rect.get_height() + distance\n",
    "    ax.text(rect.get_x() + rect.get_width() / 2, height, label,\n",
    "            ha='center', va='bottom', fontweight='bold')\n",
    "    \n",
    "    # Posititon for x labels\n",
    "    label_ticks_pos.append(rect.get_x() + rect.get_width() / 2)\n",
    "    \n",
    "\n",
    "    \n",
    "labels_bars = ['\\\\textsc{2H0A}', '\\\\textsc{3H0A}', '\\\\textsc{0H2A} \\n \\\\textit{(Best)}', '\\\\textsc{0H3A} \\n \\\\textit{(Best)}', \n",
    "               '\\\\textsc{0H2A} \\n  \\\\textit{(Average)}', '\\\\textsc{0H3A} \\n \\\\textit{(Average)}']\n",
    "\n",
    "ax.set_xticks(label_ticks_pos)\n",
    "ax.set_xticklabels(labels_bars)\n",
    "\n",
    "\n",
    "# Adding top labels with matplotlib magic numbers\n",
    "ax.text(0.06, 4.7, 'Two firm markets', fontsize=25)\n",
    "ax.text(1.02, 4.7, 'Three firm markets', fontsize=25)\n",
    "\n",
    "hatches = ['/',  '/', '\\\\', '\\\\', '|', '|' ]\n",
    "\n",
    "# Loop over the bars to add hatches\n",
    "for i,thisbar in enumerate(rects):\n",
    "    # Set a different hatch for each bar\n",
    "    thisbar.set_hatch(hatches[i])\n",
    "\n",
    "# Create legend & Show graphic\n",
    "ax.legend(loc='lower center', bbox_to_anchor =(0.5,-0.2), ncol=3)\n",
    "fig.savefig(ppj(\"OUT_FIGURES\", \"bar_plot_algortihm_v_humans.pdf\"), bbox_inches='tight')"
   ]
  },
  {
   "cell_type": "markdown",
   "metadata": {},
   "source": [
    "## Next up we use mann whitney u tests to compare the respective samples."
   ]
  },
  {
   "cell_type": "code",
   "execution_count": 9,
   "metadata": {},
   "outputs": [],
   "source": [
    "from scipy.stats import mannwhitneyu"
   ]
  },
  {
   "cell_type": "markdown",
   "metadata": {},
   "source": [
    "### We start by comparing the market prices within a respective market size."
   ]
  },
  {
   "cell_type": "markdown",
   "metadata": {},
   "source": [
    "Two firm market:"
   ]
  },
  {
   "cell_type": "code",
   "execution_count": 10,
   "metadata": {},
   "outputs": [
    {
     "data": {
      "text/plain": [
       "2.4544708263240423e-19"
      ]
     },
     "execution_count": 10,
     "metadata": {},
     "output_type": "execute_result"
    }
   ],
   "source": [
    "mannwhitneyu(\n",
    "    data_humans.loc[data_humans['treatment'] == '2H0A']['winning_price'],\n",
    "    super_star_avg_prices_2_agents,\n",
    "    use_continuity=False,\n",
    "    alternative='two-sided'\n",
    ")[-1]"
   ]
  },
  {
   "cell_type": "code",
   "execution_count": 11,
   "metadata": {},
   "outputs": [
    {
     "data": {
      "text/plain": [
       "0.0010815422804083224"
      ]
     },
     "execution_count": 11,
     "metadata": {},
     "output_type": "execute_result"
    }
   ],
   "source": [
    "mannwhitneyu(\n",
    "    data_humans.loc[data_humans['treatment'] == '2H0A']['winning_price'],\n",
    "    entire_price_grid_avg_prices_2_agents,\n",
    "    use_continuity=False,\n",
    "    alternative='two-sided'\n",
    ")[-1]"
   ]
  },
  {
   "cell_type": "markdown",
   "metadata": {},
   "source": [
    "\n",
    "The algortihmic markets are more collusive than the human markets at $p<0.01$. This is the case for the super star algorithm and the average of the grid search."
   ]
  },
  {
   "cell_type": "markdown",
   "metadata": {},
   "source": [
    "Three firm market:\n"
   ]
  },
  {
   "cell_type": "code",
   "execution_count": 12,
   "metadata": {},
   "outputs": [
    {
     "data": {
      "text/plain": [
       "0.9803403942308063"
      ]
     },
     "execution_count": 12,
     "metadata": {},
     "output_type": "execute_result"
    }
   ],
   "source": [
    "mannwhitneyu(\n",
    "    data_humans.loc[data_humans['treatment'] == '3H0A']['winning_price'],\n",
    "    super_star_avg_prices_3_agents,\n",
    "    use_continuity=False,\n",
    "    alternative='two-sided'\n",
    "\n",
    ")[-1]"
   ]
  },
  {
   "cell_type": "code",
   "execution_count": 13,
   "metadata": {},
   "outputs": [
    {
     "data": {
      "text/plain": [
       "0.0011131274804479718"
      ]
     },
     "execution_count": 13,
     "metadata": {},
     "output_type": "execute_result"
    }
   ],
   "source": [
    "mannwhitneyu(\n",
    "    data_humans.loc[data_humans['treatment'] == '3H0A']['winning_price'],\n",
    "    entire_price_grid_avg_prices_3_agents,\n",
    "    use_continuity=False,\n",
    "    alternative='two-sided'\n",
    ")[-1]"
   ]
  },
  {
   "cell_type": "markdown",
   "metadata": {},
   "source": [
    "There exist no statistically significant differences between the prices in the three firm markets with the super star algorithms and humans. Interestingly, the average algorithm from the grid search is *less* collusive than the human market with this difference being statistically significant at $p<0.01$."
   ]
  },
  {
   "cell_type": "markdown",
   "metadata": {},
   "source": [
    "### Next, we compare the outcomes between market sizes."
   ]
  },
  {
   "cell_type": "code",
   "execution_count": 14,
   "metadata": {},
   "outputs": [
    {
     "data": {
      "text/plain": [
       "0.0"
      ]
     },
     "execution_count": 14,
     "metadata": {},
     "output_type": "execute_result"
    }
   ],
   "source": [
    "mannwhitneyu(\n",
    "    super_star_avg_prices_3_agents,\n",
    "    super_star_avg_prices_2_agents,\n",
    "    use_continuity=False,\n",
    "    alternative='two-sided'\n",
    "\n",
    ")[-1]"
   ]
  },
  {
   "cell_type": "code",
   "execution_count": 15,
   "metadata": {},
   "outputs": [
    {
     "data": {
      "text/plain": [
       "0.0"
      ]
     },
     "execution_count": 15,
     "metadata": {},
     "output_type": "execute_result"
    }
   ],
   "source": [
    "mannwhitneyu(\n",
    "    entire_price_grid_avg_prices_2_agents,\n",
    "    entire_price_grid_avg_prices_3_agents,\n",
    "    use_continuity=False,\n",
    "    alternative='two-sided'\n",
    "\n",
    ")[-1]"
   ]
  },
  {
   "cell_type": "markdown",
   "metadata": {},
   "source": [
    "Two firm algortihmic markets lead to hire markets prices compared to the case where three algorithms populate the same market ($p<0.01$)."
   ]
  },
  {
   "cell_type": "code",
   "execution_count": 16,
   "metadata": {},
   "outputs": [],
   "source": [
    "a = data_humans.loc[data_humans['treatment'] == '3H0A']['winning_price'].values"
   ]
  },
  {
   "cell_type": "code",
   "execution_count": null,
   "metadata": {},
   "outputs": [],
   "source": []
  },
  {
   "cell_type": "code",
   "execution_count": 17,
   "metadata": {},
   "outputs": [
    {
     "data": {
      "text/plain": [
       "0.46394035370574516"
      ]
     },
     "execution_count": 17,
     "metadata": {},
     "output_type": "execute_result"
    }
   ],
   "source": [
    "mannwhitneyu(\n",
    "    data_humans.loc[data_humans['treatment'] == '3H0A']['collusive'],\n",
    "    data_humans.loc[data_humans['treatment'] == '2H0A']['collusive'],\n",
    "    use_continuity=False,\n",
    "    alternative='two-sided'\n",
    "\n",
    ")[-1]"
   ]
  },
  {
   "cell_type": "markdown",
   "metadata": {},
   "source": [
    "While market prices are higher in two firm human markets as suggested by the literature on human collusion, those difference are not statistically significant. This can also be confirmed by the means of regression anaylsis which you find in the appendix.\n",
    "\n",
    "Note however that this is only the case in the last super game:\n",
    "\n"
   ]
  },
  {
   "cell_type": "code",
   "execution_count": 18,
   "metadata": {},
   "outputs": [],
   "source": [
    "data_humans_first_super_game = data_group_level.loc[(data_group_level['super_game'] == 1) & \n",
    "                                                    (data_group_level['treatment'].isin(['3H0A', '2H0A']))].groupby(['super_group_id_general', 'treatment'], as_index=False)[['winning_price', 'collusive']].mean()\n",
    "data_humans_second_super_game = data_group_level.loc[(data_group_level['super_game'] == 2) & \n",
    "                                                    (data_group_level['treatment'].isin(['3H0A', '2H0A']))].groupby(['super_group_id_general', 'treatment'], as_index=False)[['winning_price', 'collusive']].mean()\n"
   ]
  },
  {
   "cell_type": "code",
   "execution_count": 19,
   "metadata": {},
   "outputs": [],
   "source": [
    "data_humans_all_super_game = data_group_level.loc[\n",
    "                                                    (data_group_level['treatment'].isin(['3H0A', '2H0A']))].groupby(['super_group_id_general', 'treatment'], as_index=False)[['winning_price', 'collusive']].mean()\n"
   ]
  },
  {
   "cell_type": "code",
   "execution_count": 20,
   "metadata": {},
   "outputs": [
    {
     "data": {
      "text/plain": [
       "0.04530386472278079"
      ]
     },
     "execution_count": 20,
     "metadata": {},
     "output_type": "execute_result"
    }
   ],
   "source": [
    "mannwhitneyu(\n",
    "    data_humans_first_super_game.loc[data_humans_first_super_game['treatment'] == '3H0A']['winning_price'],\n",
    "    data_humans_first_super_game.loc[data_humans_first_super_game['treatment'] == '2H0A']['winning_price'],\n",
    "    use_continuity=False,\n",
    "    alternative='two-sided'\n",
    "\n",
    ")[-1]"
   ]
  },
  {
   "cell_type": "code",
   "execution_count": 21,
   "metadata": {},
   "outputs": [
    {
     "data": {
      "text/plain": [
       "0.050961936967763306"
      ]
     },
     "execution_count": 21,
     "metadata": {},
     "output_type": "execute_result"
    }
   ],
   "source": [
    "mannwhitneyu(\n",
    "    data_humans_second_super_game.loc[data_humans_second_super_game['treatment'] == '3H0A']['winning_price'],\n",
    "    data_humans_second_super_game.loc[data_humans_second_super_game['treatment'] == '2H0A']['winning_price'],\n",
    "    use_continuity=False,\n",
    "    alternative='two-sided'\n",
    "\n",
    ")[-1]"
   ]
  },
  {
   "cell_type": "code",
   "execution_count": 22,
   "metadata": {},
   "outputs": [
    {
     "data": {
      "text/plain": [
       "0.04042397933690852"
      ]
     },
     "execution_count": 22,
     "metadata": {},
     "output_type": "execute_result"
    }
   ],
   "source": [
    "mannwhitneyu(\n",
    "    data_humans_all_super_game.loc[data_humans_all_super_game['treatment'] == '3H0A']['winning_price'],\n",
    "    data_humans_all_super_game.loc[data_humans_all_super_game['treatment'] == '2H0A']['winning_price'],\n",
    "    use_continuity=False,\n",
    "    alternative='two-sided'\n",
    "\n",
    ")[-1]"
   ]
  },
  {
   "cell_type": "code",
   "execution_count": 23,
   "metadata": {},
   "outputs": [
    {
     "data": {
      "text/html": [
       "<div>\n",
       "<style scoped>\n",
       "    .dataframe tbody tr th:only-of-type {\n",
       "        vertical-align: middle;\n",
       "    }\n",
       "\n",
       "    .dataframe tbody tr th {\n",
       "        vertical-align: top;\n",
       "    }\n",
       "\n",
       "    .dataframe thead th {\n",
       "        text-align: right;\n",
       "    }\n",
       "</style>\n",
       "<table border=\"1\" class=\"dataframe\">\n",
       "  <thead>\n",
       "    <tr style=\"text-align: right;\">\n",
       "      <th></th>\n",
       "      <th>super_group_id_general</th>\n",
       "      <th>treatment</th>\n",
       "      <th>winning_price</th>\n",
       "      <th>collusive</th>\n",
       "    </tr>\n",
       "  </thead>\n",
       "  <tbody>\n",
       "    <tr>\n",
       "      <th>0</th>\n",
       "      <td>session_02062021_1000_1</td>\n",
       "      <td>3H0A</td>\n",
       "      <td>1.327044</td>\n",
       "      <td>0.037736</td>\n",
       "    </tr>\n",
       "    <tr>\n",
       "      <th>1</th>\n",
       "      <td>session_02062021_1000_2</td>\n",
       "      <td>3H0A</td>\n",
       "      <td>2.207547</td>\n",
       "      <td>0.364780</td>\n",
       "    </tr>\n",
       "    <tr>\n",
       "      <th>2</th>\n",
       "      <td>session_02062021_1130_1</td>\n",
       "      <td>3H0A</td>\n",
       "      <td>1.238994</td>\n",
       "      <td>0.075472</td>\n",
       "    </tr>\n",
       "    <tr>\n",
       "      <th>3</th>\n",
       "      <td>session_07062021_1130_1</td>\n",
       "      <td>3H0A</td>\n",
       "      <td>1.874214</td>\n",
       "      <td>0.251572</td>\n",
       "    </tr>\n",
       "    <tr>\n",
       "      <th>4</th>\n",
       "      <td>session_07062021_1130_2</td>\n",
       "      <td>3H0A</td>\n",
       "      <td>1.666667</td>\n",
       "      <td>0.327044</td>\n",
       "    </tr>\n",
       "    <tr>\n",
       "      <th>5</th>\n",
       "      <td>session_08062021_1630_3H0A_1</td>\n",
       "      <td>3H0A</td>\n",
       "      <td>3.283019</td>\n",
       "      <td>0.729560</td>\n",
       "    </tr>\n",
       "    <tr>\n",
       "      <th>6</th>\n",
       "      <td>session_17062021_1600_1</td>\n",
       "      <td>3H0A</td>\n",
       "      <td>1.452830</td>\n",
       "      <td>0.157233</td>\n",
       "    </tr>\n",
       "    <tr>\n",
       "      <th>7</th>\n",
       "      <td>session_20052021_1000_1</td>\n",
       "      <td>2H0A</td>\n",
       "      <td>2.622642</td>\n",
       "      <td>0.572327</td>\n",
       "    </tr>\n",
       "    <tr>\n",
       "      <th>8</th>\n",
       "      <td>session_20052021_1000_2</td>\n",
       "      <td>2H0A</td>\n",
       "      <td>2.767296</td>\n",
       "      <td>0.534591</td>\n",
       "    </tr>\n",
       "    <tr>\n",
       "      <th>9</th>\n",
       "      <td>session_21052021_1000_1</td>\n",
       "      <td>2H0A</td>\n",
       "      <td>3.421384</td>\n",
       "      <td>0.748428</td>\n",
       "    </tr>\n",
       "    <tr>\n",
       "      <th>10</th>\n",
       "      <td>session_21052021_1000_2</td>\n",
       "      <td>2H0A</td>\n",
       "      <td>2.446541</td>\n",
       "      <td>0.635220</td>\n",
       "    </tr>\n",
       "    <tr>\n",
       "      <th>11</th>\n",
       "      <td>session_21052021_1400_1</td>\n",
       "      <td>2H0A</td>\n",
       "      <td>1.660377</td>\n",
       "      <td>0.207547</td>\n",
       "    </tr>\n",
       "    <tr>\n",
       "      <th>12</th>\n",
       "      <td>session_21052021_1400_2</td>\n",
       "      <td>2H0A</td>\n",
       "      <td>2.861635</td>\n",
       "      <td>0.773585</td>\n",
       "    </tr>\n",
       "    <tr>\n",
       "      <th>13</th>\n",
       "      <td>session_25052021_1000_1</td>\n",
       "      <td>2H0A</td>\n",
       "      <td>1.742138</td>\n",
       "      <td>0.352201</td>\n",
       "    </tr>\n",
       "    <tr>\n",
       "      <th>14</th>\n",
       "      <td>session_25052021_1000_2</td>\n",
       "      <td>2H0A</td>\n",
       "      <td>2.264151</td>\n",
       "      <td>0.415094</td>\n",
       "    </tr>\n",
       "    <tr>\n",
       "      <th>15</th>\n",
       "      <td>session_25052021_1400_1</td>\n",
       "      <td>2H0A</td>\n",
       "      <td>2.704403</td>\n",
       "      <td>0.679245</td>\n",
       "    </tr>\n",
       "    <tr>\n",
       "      <th>16</th>\n",
       "      <td>session_25052021_1400_2</td>\n",
       "      <td>2H0A</td>\n",
       "      <td>2.320755</td>\n",
       "      <td>0.465409</td>\n",
       "    </tr>\n",
       "  </tbody>\n",
       "</table>\n",
       "</div>"
      ],
      "text/plain": [
       "          super_group_id_general treatment  winning_price  collusive\n",
       "0        session_02062021_1000_1      3H0A       1.327044   0.037736\n",
       "1        session_02062021_1000_2      3H0A       2.207547   0.364780\n",
       "2        session_02062021_1130_1      3H0A       1.238994   0.075472\n",
       "3        session_07062021_1130_1      3H0A       1.874214   0.251572\n",
       "4        session_07062021_1130_2      3H0A       1.666667   0.327044\n",
       "5   session_08062021_1630_3H0A_1      3H0A       3.283019   0.729560\n",
       "6        session_17062021_1600_1      3H0A       1.452830   0.157233\n",
       "7        session_20052021_1000_1      2H0A       2.622642   0.572327\n",
       "8        session_20052021_1000_2      2H0A       2.767296   0.534591\n",
       "9        session_21052021_1000_1      2H0A       3.421384   0.748428\n",
       "10       session_21052021_1000_2      2H0A       2.446541   0.635220\n",
       "11       session_21052021_1400_1      2H0A       1.660377   0.207547\n",
       "12       session_21052021_1400_2      2H0A       2.861635   0.773585\n",
       "13       session_25052021_1000_1      2H0A       1.742138   0.352201\n",
       "14       session_25052021_1000_2      2H0A       2.264151   0.415094\n",
       "15       session_25052021_1400_1      2H0A       2.704403   0.679245\n",
       "16       session_25052021_1400_2      2H0A       2.320755   0.465409"
      ]
     },
     "execution_count": 23,
     "metadata": {},
     "output_type": "execute_result"
    }
   ],
   "source": [
    "data_humans_all_super_game"
   ]
  },
  {
   "cell_type": "markdown",
   "metadata": {},
   "source": [
    "This shows the importance of learning for humans, which appears to be more pronounce in larger and therefore strategically more complex markets."
   ]
  }
 ],
 "metadata": {
  "kernelspec": {
   "display_name": "Python 3",
   "language": "python",
   "name": "python3"
  },
  "language_info": {
   "codemirror_mode": {
    "name": "ipython",
    "version": 3
   },
   "file_extension": ".py",
   "mimetype": "text/x-python",
   "name": "python",
   "nbconvert_exporter": "python",
   "pygments_lexer": "ipython3",
   "version": "3.7.7"
  }
 },
 "nbformat": 4,
 "nbformat_minor": 4
}
