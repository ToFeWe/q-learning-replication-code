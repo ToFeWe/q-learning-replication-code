{
 "cells": [
  {
   "cell_type": "code",
   "execution_count": 381,
   "metadata": {},
   "outputs": [],
   "source": [
    "# Do not delete this cell. It ensures that you can do the imports,\n",
    "# load datasets etc. in the same fashion as in any Python script\n",
    "# in the project template.\n",
    "\n",
    "\n",
    "import sys\n",
    "sys.path.insert(0, '../..')\n",
    "from bld.project_paths import project_paths_join as ppj\n",
    "from bld.project_paths import project_paths as pp\n",
    "\n"
   ]
  },
  {
   "cell_type": "code",
   "execution_count": 382,
   "metadata": {},
   "outputs": [],
   "source": [
    "import numpy as np\n",
    "import json\n",
    "import pickle\n",
    "import pandas as pd\n",
    "from scipy.stats import sem\n",
    "import seaborn as sns\n",
    "import matplotlib.pyplot as plt\n",
    "%config Completer.use_jedi = False\n",
    "\n",
    "from matplotlib import rc\n",
    "rc('text', usetex=True)\n",
    "plt.rcParams.update({'font.size': 20})\n"
   ]
  },
  {
   "cell_type": "code",
   "execution_count": 413,
   "metadata": {},
   "outputs": [],
   "source": [
    "data = pd.read_pickle(ppj(\"OUT_DATA\", \"data_individual_level.pickle\"))"
   ]
  },
  {
   "cell_type": "code",
   "execution_count": 414,
   "metadata": {},
   "outputs": [],
   "source": [
    "data_last_sg = data.loc[(data['super_game'] == 3) &\n",
    "                             (data['treatment'] == '1H2A') ].copy()\n",
    "# data_last_sg_1H2A = data.loc[(data['super_game'] == 1) &\n",
    "#                              (data['treatment'] == '1H2A') ]"
   ]
  },
  {
   "cell_type": "markdown",
   "metadata": {},
   "source": [
    "Reshape the data to wide format"
   ]
  },
  {
   "cell_type": "code",
   "execution_count": 415,
   "metadata": {},
   "outputs": [],
   "source": [
    "data_subset = data_last_sg[['participant.code', 'round', 'price']]\n",
    "data_subset_pivot = data_subset.pivot(index='participant.code', columns='round', values='price')\n"
   ]
  },
  {
   "cell_type": "code",
   "execution_count": 416,
   "metadata": {},
   "outputs": [],
   "source": [
    "from sklearn.cluster import KMeans\n",
    "from sklearn.mixture import GaussianMixture\n",
    "from sklearn.mixture import BayesianGaussianMixture\n"
   ]
  },
  {
   "cell_type": "code",
   "execution_count": 418,
   "metadata": {},
   "outputs": [],
   "source": [
    "#model = KMeans(n_clusters=3, random_state=0).fit(data_subset_pivot)\n",
    "model = GaussianMixture(n_components=3, random_state=0).fit(data_subset_pivot)\n",
    "#model = BayesianGaussianMixture(n_components=12, random_state=0, weight_concentration_prior=0.001).fit(data_subset_pivot)\n"
   ]
  },
  {
   "cell_type": "code",
   "execution_count": 419,
   "metadata": {},
   "outputs": [],
   "source": [
    "data_subset_pivot['type'] = model.predict(data_subset_pivot)\n",
    "# data_subset_pivot['participant.code'] = data_subset_pivot.index\n",
    "data_subset_pivot.reset_index(level=0, inplace=True)\n",
    "\n",
    "data_type_classification =data_subset_pivot[['participant.code', 'type']]"
   ]
  },
  {
   "cell_type": "code",
   "execution_count": 420,
   "metadata": {},
   "outputs": [],
   "source": [
    "data_last_sg = data_last_sg.merge(data_type_classification, how='left', on='participant.code')"
   ]
  },
  {
   "cell_type": "code",
   "execution_count": 421,
   "metadata": {},
   "outputs": [
    {
     "data": {
      "text/html": [
       "<div>\n",
       "<style scoped>\n",
       "    .dataframe tbody tr th:only-of-type {\n",
       "        vertical-align: middle;\n",
       "    }\n",
       "\n",
       "    .dataframe tbody tr th {\n",
       "        vertical-align: top;\n",
       "    }\n",
       "\n",
       "    .dataframe thead th {\n",
       "        text-align: right;\n",
       "    }\n",
       "</style>\n",
       "<table border=\"1\" class=\"dataframe\">\n",
       "  <thead>\n",
       "    <tr style=\"text-align: right;\">\n",
       "      <th></th>\n",
       "      <th>participant.code</th>\n",
       "      <th>round</th>\n",
       "      <th>super_game</th>\n",
       "      <th>group_id</th>\n",
       "      <th>winning_price</th>\n",
       "      <th>price</th>\n",
       "      <th>price_algorithm</th>\n",
       "      <th>data_identifier</th>\n",
       "      <th>treatment</th>\n",
       "      <th>super_group_id</th>\n",
       "      <th>...</th>\n",
       "      <th>price_lag_2</th>\n",
       "      <th>price_algorithm_2</th>\n",
       "      <th>winning_price_lag_3</th>\n",
       "      <th>price_lag_3</th>\n",
       "      <th>price_algorithm_3</th>\n",
       "      <th>winning_price_lag_4</th>\n",
       "      <th>price_lag_4</th>\n",
       "      <th>price_algorithm_4</th>\n",
       "      <th>r_sg</th>\n",
       "      <th>type</th>\n",
       "    </tr>\n",
       "  </thead>\n",
       "  <tbody>\n",
       "    <tr>\n",
       "      <th>0</th>\n",
       "      <td>ffod48om</td>\n",
       "      <td>1.0</td>\n",
       "      <td>3.0</td>\n",
       "      <td>1</td>\n",
       "      <td>4.0</td>\n",
       "      <td>4.0</td>\n",
       "      <td>4.0</td>\n",
       "      <td>session_07062021_1000</td>\n",
       "      <td>1H2A</td>\n",
       "      <td>1</td>\n",
       "      <td>...</td>\n",
       "      <td>NaN</td>\n",
       "      <td>NaN</td>\n",
       "      <td>NaN</td>\n",
       "      <td>NaN</td>\n",
       "      <td>NaN</td>\n",
       "      <td>NaN</td>\n",
       "      <td>NaN</td>\n",
       "      <td>NaN</td>\n",
       "      <td>42</td>\n",
       "      <td>0</td>\n",
       "    </tr>\n",
       "    <tr>\n",
       "      <th>1</th>\n",
       "      <td>zgloiy4i</td>\n",
       "      <td>1.0</td>\n",
       "      <td>3.0</td>\n",
       "      <td>2</td>\n",
       "      <td>3.0</td>\n",
       "      <td>3.0</td>\n",
       "      <td>4.0</td>\n",
       "      <td>session_07062021_1000</td>\n",
       "      <td>1H2A</td>\n",
       "      <td>2</td>\n",
       "      <td>...</td>\n",
       "      <td>NaN</td>\n",
       "      <td>NaN</td>\n",
       "      <td>NaN</td>\n",
       "      <td>NaN</td>\n",
       "      <td>NaN</td>\n",
       "      <td>NaN</td>\n",
       "      <td>NaN</td>\n",
       "      <td>NaN</td>\n",
       "      <td>42</td>\n",
       "      <td>1</td>\n",
       "    </tr>\n",
       "    <tr>\n",
       "      <th>2</th>\n",
       "      <td>ur28kmlw</td>\n",
       "      <td>1.0</td>\n",
       "      <td>3.0</td>\n",
       "      <td>3</td>\n",
       "      <td>4.0</td>\n",
       "      <td>4.0</td>\n",
       "      <td>4.0</td>\n",
       "      <td>session_07062021_1000</td>\n",
       "      <td>1H2A</td>\n",
       "      <td>3</td>\n",
       "      <td>...</td>\n",
       "      <td>NaN</td>\n",
       "      <td>NaN</td>\n",
       "      <td>NaN</td>\n",
       "      <td>NaN</td>\n",
       "      <td>NaN</td>\n",
       "      <td>NaN</td>\n",
       "      <td>NaN</td>\n",
       "      <td>NaN</td>\n",
       "      <td>42</td>\n",
       "      <td>0</td>\n",
       "    </tr>\n",
       "    <tr>\n",
       "      <th>3</th>\n",
       "      <td>e05bghwh</td>\n",
       "      <td>1.0</td>\n",
       "      <td>3.0</td>\n",
       "      <td>4</td>\n",
       "      <td>4.0</td>\n",
       "      <td>4.0</td>\n",
       "      <td>4.0</td>\n",
       "      <td>session_07062021_1000</td>\n",
       "      <td>1H2A</td>\n",
       "      <td>4</td>\n",
       "      <td>...</td>\n",
       "      <td>NaN</td>\n",
       "      <td>NaN</td>\n",
       "      <td>NaN</td>\n",
       "      <td>NaN</td>\n",
       "      <td>NaN</td>\n",
       "      <td>NaN</td>\n",
       "      <td>NaN</td>\n",
       "      <td>NaN</td>\n",
       "      <td>42</td>\n",
       "      <td>0</td>\n",
       "    </tr>\n",
       "    <tr>\n",
       "      <th>4</th>\n",
       "      <td>fjwornif</td>\n",
       "      <td>1.0</td>\n",
       "      <td>3.0</td>\n",
       "      <td>5</td>\n",
       "      <td>3.0</td>\n",
       "      <td>3.0</td>\n",
       "      <td>4.0</td>\n",
       "      <td>session_07062021_1000</td>\n",
       "      <td>1H2A</td>\n",
       "      <td>5</td>\n",
       "      <td>...</td>\n",
       "      <td>NaN</td>\n",
       "      <td>NaN</td>\n",
       "      <td>NaN</td>\n",
       "      <td>NaN</td>\n",
       "      <td>NaN</td>\n",
       "      <td>NaN</td>\n",
       "      <td>NaN</td>\n",
       "      <td>NaN</td>\n",
       "      <td>42</td>\n",
       "      <td>2</td>\n",
       "    </tr>\n",
       "    <tr>\n",
       "      <th>...</th>\n",
       "      <td>...</td>\n",
       "      <td>...</td>\n",
       "      <td>...</td>\n",
       "      <td>...</td>\n",
       "      <td>...</td>\n",
       "      <td>...</td>\n",
       "      <td>...</td>\n",
       "      <td>...</td>\n",
       "      <td>...</td>\n",
       "      <td>...</td>\n",
       "      <td>...</td>\n",
       "      <td>...</td>\n",
       "      <td>...</td>\n",
       "      <td>...</td>\n",
       "      <td>...</td>\n",
       "      <td>...</td>\n",
       "      <td>...</td>\n",
       "      <td>...</td>\n",
       "      <td>...</td>\n",
       "      <td>...</td>\n",
       "      <td>...</td>\n",
       "    </tr>\n",
       "    <tr>\n",
       "      <th>226</th>\n",
       "      <td>fyxptm6l</td>\n",
       "      <td>10.0</td>\n",
       "      <td>3.0</td>\n",
       "      <td>2</td>\n",
       "      <td>4.0</td>\n",
       "      <td>4.0</td>\n",
       "      <td>4.0</td>\n",
       "      <td>session_08062021_1630_1H2A</td>\n",
       "      <td>1H2A</td>\n",
       "      <td>2</td>\n",
       "      <td>...</td>\n",
       "      <td>4.0</td>\n",
       "      <td>4.0</td>\n",
       "      <td>4.0</td>\n",
       "      <td>4.0</td>\n",
       "      <td>4.0</td>\n",
       "      <td>4.0</td>\n",
       "      <td>4.0</td>\n",
       "      <td>4.0</td>\n",
       "      <td>51</td>\n",
       "      <td>0</td>\n",
       "    </tr>\n",
       "    <tr>\n",
       "      <th>227</th>\n",
       "      <td>r5bpxw5t</td>\n",
       "      <td>10.0</td>\n",
       "      <td>3.0</td>\n",
       "      <td>3</td>\n",
       "      <td>1.0</td>\n",
       "      <td>1.0</td>\n",
       "      <td>1.0</td>\n",
       "      <td>session_08062021_1630_1H2A</td>\n",
       "      <td>1H2A</td>\n",
       "      <td>3</td>\n",
       "      <td>...</td>\n",
       "      <td>1.0</td>\n",
       "      <td>1.0</td>\n",
       "      <td>3.0</td>\n",
       "      <td>3.0</td>\n",
       "      <td>4.0</td>\n",
       "      <td>1.0</td>\n",
       "      <td>1.0</td>\n",
       "      <td>1.0</td>\n",
       "      <td>51</td>\n",
       "      <td>1</td>\n",
       "    </tr>\n",
       "    <tr>\n",
       "      <th>228</th>\n",
       "      <td>6z0bmgq7</td>\n",
       "      <td>11.0</td>\n",
       "      <td>3.0</td>\n",
       "      <td>1</td>\n",
       "      <td>4.0</td>\n",
       "      <td>4.0</td>\n",
       "      <td>4.0</td>\n",
       "      <td>session_08062021_1630_1H2A</td>\n",
       "      <td>1H2A</td>\n",
       "      <td>1</td>\n",
       "      <td>...</td>\n",
       "      <td>4.0</td>\n",
       "      <td>4.0</td>\n",
       "      <td>4.0</td>\n",
       "      <td>4.0</td>\n",
       "      <td>4.0</td>\n",
       "      <td>4.0</td>\n",
       "      <td>4.0</td>\n",
       "      <td>4.0</td>\n",
       "      <td>52</td>\n",
       "      <td>0</td>\n",
       "    </tr>\n",
       "    <tr>\n",
       "      <th>229</th>\n",
       "      <td>fyxptm6l</td>\n",
       "      <td>11.0</td>\n",
       "      <td>3.0</td>\n",
       "      <td>2</td>\n",
       "      <td>4.0</td>\n",
       "      <td>4.0</td>\n",
       "      <td>4.0</td>\n",
       "      <td>session_08062021_1630_1H2A</td>\n",
       "      <td>1H2A</td>\n",
       "      <td>2</td>\n",
       "      <td>...</td>\n",
       "      <td>4.0</td>\n",
       "      <td>4.0</td>\n",
       "      <td>4.0</td>\n",
       "      <td>4.0</td>\n",
       "      <td>4.0</td>\n",
       "      <td>4.0</td>\n",
       "      <td>4.0</td>\n",
       "      <td>4.0</td>\n",
       "      <td>52</td>\n",
       "      <td>0</td>\n",
       "    </tr>\n",
       "    <tr>\n",
       "      <th>230</th>\n",
       "      <td>r5bpxw5t</td>\n",
       "      <td>11.0</td>\n",
       "      <td>3.0</td>\n",
       "      <td>3</td>\n",
       "      <td>3.0</td>\n",
       "      <td>3.0</td>\n",
       "      <td>4.0</td>\n",
       "      <td>session_08062021_1630_1H2A</td>\n",
       "      <td>1H2A</td>\n",
       "      <td>3</td>\n",
       "      <td>...</td>\n",
       "      <td>3.0</td>\n",
       "      <td>4.0</td>\n",
       "      <td>1.0</td>\n",
       "      <td>1.0</td>\n",
       "      <td>1.0</td>\n",
       "      <td>3.0</td>\n",
       "      <td>3.0</td>\n",
       "      <td>4.0</td>\n",
       "      <td>52</td>\n",
       "      <td>1</td>\n",
       "    </tr>\n",
       "  </tbody>\n",
       "</table>\n",
       "<p>231 rows × 31 columns</p>\n",
       "</div>"
      ],
      "text/plain": [
       "    participant.code  round  super_game group_id  winning_price  price  \\\n",
       "0           ffod48om    1.0         3.0        1            4.0    4.0   \n",
       "1           zgloiy4i    1.0         3.0        2            3.0    3.0   \n",
       "2           ur28kmlw    1.0         3.0        3            4.0    4.0   \n",
       "3           e05bghwh    1.0         3.0        4            4.0    4.0   \n",
       "4           fjwornif    1.0         3.0        5            3.0    3.0   \n",
       "..               ...    ...         ...      ...            ...    ...   \n",
       "226         fyxptm6l   10.0         3.0        2            4.0    4.0   \n",
       "227         r5bpxw5t   10.0         3.0        3            1.0    1.0   \n",
       "228         6z0bmgq7   11.0         3.0        1            4.0    4.0   \n",
       "229         fyxptm6l   11.0         3.0        2            4.0    4.0   \n",
       "230         r5bpxw5t   11.0         3.0        3            3.0    3.0   \n",
       "\n",
       "     price_algorithm             data_identifier treatment  super_group_id  \\\n",
       "0                4.0       session_07062021_1000      1H2A               1   \n",
       "1                4.0       session_07062021_1000      1H2A               2   \n",
       "2                4.0       session_07062021_1000      1H2A               3   \n",
       "3                4.0       session_07062021_1000      1H2A               4   \n",
       "4                4.0       session_07062021_1000      1H2A               5   \n",
       "..               ...                         ...       ...             ...   \n",
       "226              4.0  session_08062021_1630_1H2A      1H2A               2   \n",
       "227              1.0  session_08062021_1630_1H2A      1H2A               3   \n",
       "228              4.0  session_08062021_1630_1H2A      1H2A               1   \n",
       "229              4.0  session_08062021_1630_1H2A      1H2A               2   \n",
       "230              4.0  session_08062021_1630_1H2A      1H2A               3   \n",
       "\n",
       "     ...  price_lag_2  price_algorithm_2 winning_price_lag_3 price_lag_3  \\\n",
       "0    ...          NaN                NaN                 NaN         NaN   \n",
       "1    ...          NaN                NaN                 NaN         NaN   \n",
       "2    ...          NaN                NaN                 NaN         NaN   \n",
       "3    ...          NaN                NaN                 NaN         NaN   \n",
       "4    ...          NaN                NaN                 NaN         NaN   \n",
       "..   ...          ...                ...                 ...         ...   \n",
       "226  ...          4.0                4.0                 4.0         4.0   \n",
       "227  ...          1.0                1.0                 3.0         3.0   \n",
       "228  ...          4.0                4.0                 4.0         4.0   \n",
       "229  ...          4.0                4.0                 4.0         4.0   \n",
       "230  ...          3.0                4.0                 1.0         1.0   \n",
       "\n",
       "     price_algorithm_3  winning_price_lag_4  price_lag_4  price_algorithm_4  \\\n",
       "0                  NaN                  NaN          NaN                NaN   \n",
       "1                  NaN                  NaN          NaN                NaN   \n",
       "2                  NaN                  NaN          NaN                NaN   \n",
       "3                  NaN                  NaN          NaN                NaN   \n",
       "4                  NaN                  NaN          NaN                NaN   \n",
       "..                 ...                  ...          ...                ...   \n",
       "226                4.0                  4.0          4.0                4.0   \n",
       "227                4.0                  1.0          1.0                1.0   \n",
       "228                4.0                  4.0          4.0                4.0   \n",
       "229                4.0                  4.0          4.0                4.0   \n",
       "230                1.0                  3.0          3.0                4.0   \n",
       "\n",
       "     r_sg  type  \n",
       "0      42     0  \n",
       "1      42     1  \n",
       "2      42     0  \n",
       "3      42     0  \n",
       "4      42     2  \n",
       "..    ...   ...  \n",
       "226    51     0  \n",
       "227    51     1  \n",
       "228    52     0  \n",
       "229    52     0  \n",
       "230    52     1  \n",
       "\n",
       "[231 rows x 31 columns]"
      ]
     },
     "execution_count": 421,
     "metadata": {},
     "output_type": "execute_result"
    }
   ],
   "source": [
    "data_last_sg"
   ]
  },
  {
   "cell_type": "code",
   "execution_count": 422,
   "metadata": {},
   "outputs": [],
   "source": [
    "def make_line_plot_type(data_in, all_types):\n",
    "    plt.style.use('bmh')\n",
    "\n",
    "    fig, axes = plt.subplots(nrows=1, ncols=1, figsize=(20, 7))\n",
    "    plt.subplots_adjust(wspace = 0.09)\n",
    "    all_colors = sns.color_palette('bright')\n",
    "    all_markers = [\"v\", \"s\", \"P\", \"X\", \"d\"]\n",
    "    all_dashes = [(0, (1, 10)),(0, (1, 1)),  (0, (5, 10)),(0, (3, 10, 1, 10)),  (0, (3, 5, 1, 5, 1, 5))]\n",
    "    xmax_by_sg = [25,17,11]\n",
    "    \n",
    "    # Make line plots\n",
    "    for ix_current_type, current_type in enumerate(all_types):\n",
    "        sns.lineplot(x = 'round', y='winning_price', data=data_in.loc[(data_in['type'] == current_type)],\n",
    "            ci = 90, ax=axes,  err_kws={'alpha': 0.01}, color = all_colors[ix_current_type],\n",
    "            marker = all_markers[ix_current_type], label = current_type)\n",
    "\n",
    "    \n",
    "\n",
    "        axes.set_xticks([i for i in range(1,11+1,2)])\n",
    "        axes.set_xlabel('Round')\n",
    "        axes.set_ylabel('')\n",
    "\n",
    "\n",
    "    # Scale of axis\n",
    "    axes.set_ylim([0,5])\n",
    "    axes.set_yticks(range(1,5,1))\n",
    "\n",
    "    axes.hlines(1, xmax=11, xmin=1, label= 'Nash Equilibrium', colors='gray')\n",
    "    axes.hlines(4, xmax=11, xmin=1, label= 'Monopoly Price', colors= 'black')\n",
    "    axes.legend(loc='lower center', bbox_to_anchor =(0.5,-0.5), ncol=3)\n",
    "\n"
   ]
  },
  {
   "cell_type": "code",
   "execution_count": 423,
   "metadata": {},
   "outputs": [
    {
     "data": {
      "image/png": "[encoded data removed]",
      "text/plain": [
       "<Figure size 1440x504 with 1 Axes>"
      ]
     },
     "metadata": {
      "needs_background": "light"
     },
     "output_type": "display_data"
    }
   ],
   "source": [
    "make_line_plot_type(data_last_sg, data_last_sg['type'].unique())"
   ]
  },
  {
   "cell_type": "code",
   "execution_count": 346,
   "metadata": {
    "scrolled": false
   },
   "outputs": [],
   "source": [
    "data_cooperater = data_last_sg.loc[data_last_sg['type'] == 0].groupby(['participant.code'], as_index=False)['winning_price'].mean().copy()\n",
    "data_not_cooperater = data_last_sg.loc[data_last_sg['type'] != 0].groupby(['participant.code'], as_index=False)['winning_price'].mean().copy()"
   ]
  },
  {
   "cell_type": "code",
   "execution_count": null,
   "metadata": {},
   "outputs": [],
   "source": []
  },
  {
   "cell_type": "code",
   "execution_count": 352,
   "metadata": {},
   "outputs": [],
   "source": [
    "data_last_sg_humans = data.loc[(data['super_game'] == 3) &\n",
    "                             (data['treatment'] == '3H0A') ].copy()"
   ]
  },
  {
   "cell_type": "code",
   "execution_count": 348,
   "metadata": {},
   "outputs": [],
   "source": [
    "from scipy.stats import mannwhitneyu"
   ]
  },
  {
   "cell_type": "code",
   "execution_count": 353,
   "metadata": {},
   "outputs": [
    {
     "data": {
      "text/plain": [
       "MannwhitneyuResult(statistic=3.0, pvalue=0.0012126454136237783)"
      ]
     },
     "execution_count": 353,
     "metadata": {},
     "output_type": "execute_result"
    }
   ],
   "source": [
    "mannwhitneyu(\n",
    "    data_last_sg_humans.groupby(['super_group_id_general'])['winning_price'].mean(),\n",
    "    data_cooperater['winning_price'].values,\n",
    "    alternative='two-sided',\n",
    "    use_continuity=False\n",
    ")"
   ]
  },
  {
   "cell_type": "code",
   "execution_count": 354,
   "metadata": {},
   "outputs": [
    {
     "data": {
      "text/plain": [
       "MannwhitneyuResult(statistic=57.0, pvalue=0.09027677038420827)"
      ]
     },
     "execution_count": 354,
     "metadata": {},
     "output_type": "execute_result"
    }
   ],
   "source": [
    "mannwhitneyu(\n",
    "    data_last_sg_humans.groupby(['super_group_id_general'])['winning_price'].mean(),\n",
    "    data_not_cooperater['winning_price'].values,\n",
    "    alternative='two-sided',\n",
    "    use_continuity=False\n",
    ")"
   ]
  },
  {
   "cell_type": "code",
   "execution_count": 359,
   "metadata": {},
   "outputs": [
    {
     "data": {
      "text/plain": [
       "array([2.09090909, 1.36363636, 1.27272727, 1.36363636, 1.81818182,\n",
       "       2.09090909, 1.72727273, 2.09090909, 2.09090909, 1.45454545,\n",
       "       2.09090909])"
      ]
     },
     "execution_count": 359,
     "metadata": {},
     "output_type": "execute_result"
    }
   ],
   "source": [
    "data_not_cooperater['winning_price'].values"
   ]
  },
  {
   "cell_type": "code",
   "execution_count": 360,
   "metadata": {},
   "outputs": [
    {
     "data": {
      "text/plain": [
       "super_group_id_general\n",
       "session_02062021_1000_1         1.303030\n",
       "session_02062021_1000_2         3.060606\n",
       "session_02062021_1130_1         2.151515\n",
       "session_07062021_1130_1         1.939394\n",
       "session_07062021_1130_2         2.454545\n",
       "session_08062021_1630_3H0A_1    3.939394\n",
       "session_17062021_1600_1         1.969697\n",
       "Name: winning_price, dtype: float64"
      ]
     },
     "execution_count": 360,
     "metadata": {},
     "output_type": "execute_result"
    }
   ],
   "source": [
    "data_last_sg_humans.groupby(['super_group_id_general'])['winning_price'].mean()"
   ]
  }
 ],
 "metadata": {
  "kernelspec": {
   "display_name": "Python 3",
   "language": "python",
   "name": "python3"
  },
  "language_info": {
   "codemirror_mode": {
    "name": "ipython",
    "version": 3
   },
   "file_extension": ".py",
   "mimetype": "text/x-python",
   "name": "python",
   "nbconvert_exporter": "python",
   "pygments_lexer": "ipython3",
   "version": "3.7.7"
  }
 },
 "nbformat": 4,
 "nbformat_minor": 4
}
