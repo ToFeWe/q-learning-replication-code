{
 "cells": [
  {
   "cell_type": "code",
   "execution_count": 62,
   "metadata": {},
   "outputs": [],
   "source": [
    "# Do not delete this cell. It ensures that you can do the imports,\n",
    "# load datasets etc. in the same fashion as in any Python script\n",
    "# in the project template.\n",
    "\n",
    "\n",
    "import sys\n",
    "sys.path.insert(0, '../..')\n",
    "from bld.project_paths import project_paths_join as ppj\n",
    "from bld.project_paths import project_paths as pp\n",
    "\n"
   ]
  },
  {
   "cell_type": "code",
   "execution_count": 63,
   "metadata": {},
   "outputs": [],
   "source": [
    "import numpy as np\n",
    "import json\n",
    "import pickle\n",
    "import pandas as pd\n",
    "from scipy.stats import sem\n",
    "import seaborn as sns\n",
    "import matplotlib.pyplot as plt\n",
    "%config Completer.use_jedi = False\n",
    "\n",
    "from matplotlib import rc\n",
    "rc('text', usetex=True)\n",
    "plt.rcParams.update({'font.size': 20})\n"
   ]
  },
  {
   "cell_type": "code",
   "execution_count": 64,
   "metadata": {},
   "outputs": [],
   "source": [
    "data = pd.read_pickle(ppj(\"OUT_DATA\", \"data_individual_level.pickle\"))"
   ]
  },
  {
   "cell_type": "code",
   "execution_count": 65,
   "metadata": {},
   "outputs": [],
   "source": [
    "data_last_sg = data.loc[(data['super_game'] == 3) &\n",
    "                             (data['treatment'] == '1H2A') ].copy()\n",
    "# data_last_sg_1H2A = data.loc[(data['super_game'] == 1) &\n",
    "#                              (data['treatment'] == '1H2A') ]"
   ]
  },
  {
   "cell_type": "markdown",
   "metadata": {},
   "source": [
    "Reshape the data to wide format"
   ]
  },
  {
   "cell_type": "code",
   "execution_count": 66,
   "metadata": {},
   "outputs": [],
   "source": [
    "data_subset = data_last_sg[['participant.code', 'round', 'price']]\n",
    "data_subset_pivot = data_subset.pivot(index='participant.code', columns='round', values='price')\n",
    "data_subset_pivot.reset_index(level=0, inplace=True)\n"
   ]
  },
  {
   "cell_type": "code",
   "execution_count": 67,
   "metadata": {},
   "outputs": [],
   "source": [
    "from sklearn.cluster import KMeans\n",
    "from sklearn.mixture import GaussianMixture\n",
    "from sklearn.mixture import BayesianGaussianMixture\n"
   ]
  },
  {
   "cell_type": "code",
   "execution_count": 68,
   "metadata": {},
   "outputs": [],
   "source": [
    "# Create a subset of the dataframe that contains only the prices by round for each subject\n",
    "X_matrix = data_subset_pivot[list(range(1, 12))]\n",
    "model = GaussianMixture(n_components=3, random_state=0).fit(X_matrix)\n"
   ]
  },
  {
   "cell_type": "code",
   "execution_count": 69,
   "metadata": {},
   "outputs": [
    {
     "data": {
      "text/plain": [
       "-1229.550639167203"
      ]
     },
     "execution_count": 69,
     "metadata": {},
     "output_type": "execute_result"
    }
   ],
   "source": [
    "model.bic(X_matrix)"
   ]
  },
  {
   "cell_type": "code",
   "execution_count": 70,
   "metadata": {},
   "outputs": [
    {
     "data": {
      "text/html": [
       "<div>\n",
       "<style scoped>\n",
       "    .dataframe tbody tr th:only-of-type {\n",
       "        vertical-align: middle;\n",
       "    }\n",
       "\n",
       "    .dataframe tbody tr th {\n",
       "        vertical-align: top;\n",
       "    }\n",
       "\n",
       "    .dataframe thead th {\n",
       "        text-align: right;\n",
       "    }\n",
       "</style>\n",
       "<table border=\"1\" class=\"dataframe\">\n",
       "  <thead>\n",
       "    <tr style=\"text-align: right;\">\n",
       "      <th>round</th>\n",
       "      <th>participant.code</th>\n",
       "      <th>1.0</th>\n",
       "      <th>2.0</th>\n",
       "      <th>3.0</th>\n",
       "      <th>4.0</th>\n",
       "      <th>5.0</th>\n",
       "      <th>6.0</th>\n",
       "      <th>7.0</th>\n",
       "      <th>8.0</th>\n",
       "      <th>9.0</th>\n",
       "      <th>10.0</th>\n",
       "      <th>11.0</th>\n",
       "    </tr>\n",
       "  </thead>\n",
       "  <tbody>\n",
       "    <tr>\n",
       "      <th>0</th>\n",
       "      <td>6ovvlcsz</td>\n",
       "      <td>3.0</td>\n",
       "      <td>1.0</td>\n",
       "      <td>3.0</td>\n",
       "      <td>1.0</td>\n",
       "      <td>3.0</td>\n",
       "      <td>1.0</td>\n",
       "      <td>3.0</td>\n",
       "      <td>1.0</td>\n",
       "      <td>3.0</td>\n",
       "      <td>1.0</td>\n",
       "      <td>3.0</td>\n",
       "    </tr>\n",
       "    <tr>\n",
       "      <th>1</th>\n",
       "      <td>6z0bmgq7</td>\n",
       "      <td>4.0</td>\n",
       "      <td>4.0</td>\n",
       "      <td>4.0</td>\n",
       "      <td>4.0</td>\n",
       "      <td>4.0</td>\n",
       "      <td>4.0</td>\n",
       "      <td>4.0</td>\n",
       "      <td>4.0</td>\n",
       "      <td>4.0</td>\n",
       "      <td>4.0</td>\n",
       "      <td>4.0</td>\n",
       "    </tr>\n",
       "    <tr>\n",
       "      <th>2</th>\n",
       "      <td>7bzlspnk</td>\n",
       "      <td>2.0</td>\n",
       "      <td>2.0</td>\n",
       "      <td>2.0</td>\n",
       "      <td>1.0</td>\n",
       "      <td>1.0</td>\n",
       "      <td>1.0</td>\n",
       "      <td>1.0</td>\n",
       "      <td>2.0</td>\n",
       "      <td>1.0</td>\n",
       "      <td>2.0</td>\n",
       "      <td>2.0</td>\n",
       "    </tr>\n",
       "    <tr>\n",
       "      <th>3</th>\n",
       "      <td>9wtvl183</td>\n",
       "      <td>3.0</td>\n",
       "      <td>2.0</td>\n",
       "      <td>1.0</td>\n",
       "      <td>1.0</td>\n",
       "      <td>2.0</td>\n",
       "      <td>1.0</td>\n",
       "      <td>1.0</td>\n",
       "      <td>1.0</td>\n",
       "      <td>2.0</td>\n",
       "      <td>1.0</td>\n",
       "      <td>2.0</td>\n",
       "    </tr>\n",
       "    <tr>\n",
       "      <th>4</th>\n",
       "      <td>e05bghwh</td>\n",
       "      <td>4.0</td>\n",
       "      <td>4.0</td>\n",
       "      <td>4.0</td>\n",
       "      <td>4.0</td>\n",
       "      <td>4.0</td>\n",
       "      <td>4.0</td>\n",
       "      <td>4.0</td>\n",
       "      <td>4.0</td>\n",
       "      <td>4.0</td>\n",
       "      <td>4.0</td>\n",
       "      <td>4.0</td>\n",
       "    </tr>\n",
       "    <tr>\n",
       "      <th>5</th>\n",
       "      <td>ffod48om</td>\n",
       "      <td>4.0</td>\n",
       "      <td>4.0</td>\n",
       "      <td>4.0</td>\n",
       "      <td>4.0</td>\n",
       "      <td>4.0</td>\n",
       "      <td>4.0</td>\n",
       "      <td>4.0</td>\n",
       "      <td>4.0</td>\n",
       "      <td>4.0</td>\n",
       "      <td>4.0</td>\n",
       "      <td>4.0</td>\n",
       "    </tr>\n",
       "    <tr>\n",
       "      <th>6</th>\n",
       "      <td>fjwornif</td>\n",
       "      <td>3.0</td>\n",
       "      <td>1.0</td>\n",
       "      <td>1.0</td>\n",
       "      <td>1.0</td>\n",
       "      <td>1.0</td>\n",
       "      <td>2.0</td>\n",
       "      <td>1.0</td>\n",
       "      <td>2.0</td>\n",
       "      <td>2.0</td>\n",
       "      <td>1.0</td>\n",
       "      <td>1.0</td>\n",
       "    </tr>\n",
       "    <tr>\n",
       "      <th>7</th>\n",
       "      <td>fyxptm6l</td>\n",
       "      <td>4.0</td>\n",
       "      <td>4.0</td>\n",
       "      <td>4.0</td>\n",
       "      <td>4.0</td>\n",
       "      <td>4.0</td>\n",
       "      <td>4.0</td>\n",
       "      <td>4.0</td>\n",
       "      <td>4.0</td>\n",
       "      <td>4.0</td>\n",
       "      <td>4.0</td>\n",
       "      <td>4.0</td>\n",
       "    </tr>\n",
       "    <tr>\n",
       "      <th>8</th>\n",
       "      <td>l68s75kr</td>\n",
       "      <td>2.0</td>\n",
       "      <td>3.0</td>\n",
       "      <td>1.0</td>\n",
       "      <td>3.0</td>\n",
       "      <td>2.0</td>\n",
       "      <td>1.0</td>\n",
       "      <td>2.0</td>\n",
       "      <td>3.0</td>\n",
       "      <td>3.0</td>\n",
       "      <td>1.0</td>\n",
       "      <td>2.0</td>\n",
       "    </tr>\n",
       "    <tr>\n",
       "      <th>9</th>\n",
       "      <td>mrysk7sy</td>\n",
       "      <td>1.0</td>\n",
       "      <td>4.0</td>\n",
       "      <td>1.0</td>\n",
       "      <td>4.0</td>\n",
       "      <td>4.0</td>\n",
       "      <td>4.0</td>\n",
       "      <td>4.0</td>\n",
       "      <td>4.0</td>\n",
       "      <td>4.0</td>\n",
       "      <td>4.0</td>\n",
       "      <td>4.0</td>\n",
       "    </tr>\n",
       "    <tr>\n",
       "      <th>10</th>\n",
       "      <td>nr0wkvm1</td>\n",
       "      <td>3.0</td>\n",
       "      <td>1.0</td>\n",
       "      <td>3.0</td>\n",
       "      <td>1.0</td>\n",
       "      <td>3.0</td>\n",
       "      <td>1.0</td>\n",
       "      <td>3.0</td>\n",
       "      <td>1.0</td>\n",
       "      <td>3.0</td>\n",
       "      <td>1.0</td>\n",
       "      <td>3.0</td>\n",
       "    </tr>\n",
       "    <tr>\n",
       "      <th>11</th>\n",
       "      <td>okc5kvsw</td>\n",
       "      <td>3.0</td>\n",
       "      <td>1.0</td>\n",
       "      <td>3.0</td>\n",
       "      <td>1.0</td>\n",
       "      <td>3.0</td>\n",
       "      <td>1.0</td>\n",
       "      <td>3.0</td>\n",
       "      <td>2.0</td>\n",
       "      <td>3.0</td>\n",
       "      <td>3.0</td>\n",
       "      <td>1.0</td>\n",
       "    </tr>\n",
       "    <tr>\n",
       "      <th>12</th>\n",
       "      <td>qfm275vs</td>\n",
       "      <td>4.0</td>\n",
       "      <td>4.0</td>\n",
       "      <td>4.0</td>\n",
       "      <td>4.0</td>\n",
       "      <td>4.0</td>\n",
       "      <td>4.0</td>\n",
       "      <td>4.0</td>\n",
       "      <td>4.0</td>\n",
       "      <td>4.0</td>\n",
       "      <td>4.0</td>\n",
       "      <td>4.0</td>\n",
       "    </tr>\n",
       "    <tr>\n",
       "      <th>13</th>\n",
       "      <td>qlre3xjr</td>\n",
       "      <td>4.0</td>\n",
       "      <td>4.0</td>\n",
       "      <td>4.0</td>\n",
       "      <td>4.0</td>\n",
       "      <td>4.0</td>\n",
       "      <td>4.0</td>\n",
       "      <td>4.0</td>\n",
       "      <td>4.0</td>\n",
       "      <td>4.0</td>\n",
       "      <td>4.0</td>\n",
       "      <td>4.0</td>\n",
       "    </tr>\n",
       "    <tr>\n",
       "      <th>14</th>\n",
       "      <td>r5bpxw5t</td>\n",
       "      <td>3.0</td>\n",
       "      <td>1.0</td>\n",
       "      <td>3.0</td>\n",
       "      <td>1.0</td>\n",
       "      <td>3.0</td>\n",
       "      <td>1.0</td>\n",
       "      <td>3.0</td>\n",
       "      <td>1.0</td>\n",
       "      <td>3.0</td>\n",
       "      <td>1.0</td>\n",
       "      <td>3.0</td>\n",
       "    </tr>\n",
       "    <tr>\n",
       "      <th>15</th>\n",
       "      <td>r7ybcqif</td>\n",
       "      <td>3.0</td>\n",
       "      <td>1.0</td>\n",
       "      <td>3.0</td>\n",
       "      <td>1.0</td>\n",
       "      <td>3.0</td>\n",
       "      <td>1.0</td>\n",
       "      <td>3.0</td>\n",
       "      <td>1.0</td>\n",
       "      <td>3.0</td>\n",
       "      <td>1.0</td>\n",
       "      <td>3.0</td>\n",
       "    </tr>\n",
       "    <tr>\n",
       "      <th>16</th>\n",
       "      <td>tb1jz4uj</td>\n",
       "      <td>4.0</td>\n",
       "      <td>4.0</td>\n",
       "      <td>4.0</td>\n",
       "      <td>4.0</td>\n",
       "      <td>4.0</td>\n",
       "      <td>4.0</td>\n",
       "      <td>4.0</td>\n",
       "      <td>4.0</td>\n",
       "      <td>4.0</td>\n",
       "      <td>3.0</td>\n",
       "      <td>3.0</td>\n",
       "    </tr>\n",
       "    <tr>\n",
       "      <th>17</th>\n",
       "      <td>ur28kmlw</td>\n",
       "      <td>4.0</td>\n",
       "      <td>4.0</td>\n",
       "      <td>4.0</td>\n",
       "      <td>4.0</td>\n",
       "      <td>4.0</td>\n",
       "      <td>4.0</td>\n",
       "      <td>4.0</td>\n",
       "      <td>4.0</td>\n",
       "      <td>4.0</td>\n",
       "      <td>4.0</td>\n",
       "      <td>3.0</td>\n",
       "    </tr>\n",
       "    <tr>\n",
       "      <th>18</th>\n",
       "      <td>xfn4ojz3</td>\n",
       "      <td>4.0</td>\n",
       "      <td>4.0</td>\n",
       "      <td>4.0</td>\n",
       "      <td>4.0</td>\n",
       "      <td>4.0</td>\n",
       "      <td>4.0</td>\n",
       "      <td>4.0</td>\n",
       "      <td>4.0</td>\n",
       "      <td>4.0</td>\n",
       "      <td>4.0</td>\n",
       "      <td>4.0</td>\n",
       "    </tr>\n",
       "    <tr>\n",
       "      <th>19</th>\n",
       "      <td>xjp1z5w3</td>\n",
       "      <td>2.0</td>\n",
       "      <td>1.0</td>\n",
       "      <td>1.0</td>\n",
       "      <td>2.0</td>\n",
       "      <td>2.0</td>\n",
       "      <td>1.0</td>\n",
       "      <td>2.0</td>\n",
       "      <td>1.0</td>\n",
       "      <td>1.0</td>\n",
       "      <td>2.0</td>\n",
       "      <td>1.0</td>\n",
       "    </tr>\n",
       "    <tr>\n",
       "      <th>20</th>\n",
       "      <td>zgloiy4i</td>\n",
       "      <td>3.0</td>\n",
       "      <td>1.0</td>\n",
       "      <td>3.0</td>\n",
       "      <td>1.0</td>\n",
       "      <td>3.0</td>\n",
       "      <td>1.0</td>\n",
       "      <td>3.0</td>\n",
       "      <td>1.0</td>\n",
       "      <td>3.0</td>\n",
       "      <td>1.0</td>\n",
       "      <td>3.0</td>\n",
       "    </tr>\n",
       "  </tbody>\n",
       "</table>\n",
       "</div>"
      ],
      "text/plain": [
       "round participant.code  1.0  2.0  3.0  4.0  5.0  6.0  7.0  8.0  9.0  10.0  \\\n",
       "0             6ovvlcsz  3.0  1.0  3.0  1.0  3.0  1.0  3.0  1.0  3.0   1.0   \n",
       "1             6z0bmgq7  4.0  4.0  4.0  4.0  4.0  4.0  4.0  4.0  4.0   4.0   \n",
       "2             7bzlspnk  2.0  2.0  2.0  1.0  1.0  1.0  1.0  2.0  1.0   2.0   \n",
       "3             9wtvl183  3.0  2.0  1.0  1.0  2.0  1.0  1.0  1.0  2.0   1.0   \n",
       "4             e05bghwh  4.0  4.0  4.0  4.0  4.0  4.0  4.0  4.0  4.0   4.0   \n",
       "5             ffod48om  4.0  4.0  4.0  4.0  4.0  4.0  4.0  4.0  4.0   4.0   \n",
       "6             fjwornif  3.0  1.0  1.0  1.0  1.0  2.0  1.0  2.0  2.0   1.0   \n",
       "7             fyxptm6l  4.0  4.0  4.0  4.0  4.0  4.0  4.0  4.0  4.0   4.0   \n",
       "8             l68s75kr  2.0  3.0  1.0  3.0  2.0  1.0  2.0  3.0  3.0   1.0   \n",
       "9             mrysk7sy  1.0  4.0  1.0  4.0  4.0  4.0  4.0  4.0  4.0   4.0   \n",
       "10            nr0wkvm1  3.0  1.0  3.0  1.0  3.0  1.0  3.0  1.0  3.0   1.0   \n",
       "11            okc5kvsw  3.0  1.0  3.0  1.0  3.0  1.0  3.0  2.0  3.0   3.0   \n",
       "12            qfm275vs  4.0  4.0  4.0  4.0  4.0  4.0  4.0  4.0  4.0   4.0   \n",
       "13            qlre3xjr  4.0  4.0  4.0  4.0  4.0  4.0  4.0  4.0  4.0   4.0   \n",
       "14            r5bpxw5t  3.0  1.0  3.0  1.0  3.0  1.0  3.0  1.0  3.0   1.0   \n",
       "15            r7ybcqif  3.0  1.0  3.0  1.0  3.0  1.0  3.0  1.0  3.0   1.0   \n",
       "16            tb1jz4uj  4.0  4.0  4.0  4.0  4.0  4.0  4.0  4.0  4.0   3.0   \n",
       "17            ur28kmlw  4.0  4.0  4.0  4.0  4.0  4.0  4.0  4.0  4.0   4.0   \n",
       "18            xfn4ojz3  4.0  4.0  4.0  4.0  4.0  4.0  4.0  4.0  4.0   4.0   \n",
       "19            xjp1z5w3  2.0  1.0  1.0  2.0  2.0  1.0  2.0  1.0  1.0   2.0   \n",
       "20            zgloiy4i  3.0  1.0  3.0  1.0  3.0  1.0  3.0  1.0  3.0   1.0   \n",
       "\n",
       "round  11.0  \n",
       "0       3.0  \n",
       "1       4.0  \n",
       "2       2.0  \n",
       "3       2.0  \n",
       "4       4.0  \n",
       "5       4.0  \n",
       "6       1.0  \n",
       "7       4.0  \n",
       "8       2.0  \n",
       "9       4.0  \n",
       "10      3.0  \n",
       "11      1.0  \n",
       "12      4.0  \n",
       "13      4.0  \n",
       "14      3.0  \n",
       "15      3.0  \n",
       "16      3.0  \n",
       "17      3.0  \n",
       "18      4.0  \n",
       "19      1.0  \n",
       "20      3.0  "
      ]
     },
     "execution_count": 70,
     "metadata": {},
     "output_type": "execute_result"
    }
   ],
   "source": [
    "data_subset_pivot"
   ]
  },
  {
   "cell_type": "code",
   "execution_count": 71,
   "metadata": {},
   "outputs": [],
   "source": [
    "data_subset_pivot['type'] = model.predict(X_matrix)\n",
    "# data_subset_pivot['participant.code'] = data_subset_pivot.index\n",
    "# data_subset_pivot.reset_index(level=0, inplace=True)\n",
    "\n",
    "data_type_classification = data_subset_pivot[['participant.code', 'type']]"
   ]
  },
  {
   "cell_type": "code",
   "execution_count": 72,
   "metadata": {},
   "outputs": [],
   "source": [
    "data_last_sg = data_last_sg.merge(data_type_classification, how='left', on='participant.code')"
   ]
  },
  {
   "cell_type": "code",
   "execution_count": 73,
   "metadata": {},
   "outputs": [
    {
     "data": {
      "text/plain": [
       "type\n",
       "0    0.476190\n",
       "1    0.285714\n",
       "2    0.238095\n",
       "Name: participant.code, dtype: float64"
      ]
     },
     "execution_count": 73,
     "metadata": {},
     "output_type": "execute_result"
    }
   ],
   "source": [
    "data_last_sg.groupby(['type'])['participant.code'].nunique() / len(data_last_sg['participant.code'].unique())"
   ]
  },
  {
   "cell_type": "code",
   "execution_count": 74,
   "metadata": {},
   "outputs": [],
   "source": [
    "def make_line_plot_type(data_in, all_types):\n",
    "    plt.style.use('bmh')\n",
    "\n",
    "    fig, axes = plt.subplots(nrows=1, ncols=1, figsize=(20, 7))\n",
    "    plt.subplots_adjust(wspace = 0.09)\n",
    "    all_colors = sns.color_palette('bright')\n",
    "    all_markers = [\"v\", \"s\", \"P\", \"X\", \"d\"]\n",
    "    all_dashes = [(0, (1, 10)),(0, (1, 1)),  (0, (5, 10)),(0, (3, 10, 1, 10)),  (0, (3, 5, 1, 5, 1, 5))]\n",
    "    xmax_by_sg = [25,17,11]\n",
    "    \n",
    "    # Make line plots\n",
    "    for ix_current_type, current_type in enumerate(all_types):\n",
    "        sns.lineplot(x = 'round', y='winning_price', data=data_in.loc[(data_in['type'] == current_type)],\n",
    "            ci = 90, ax=axes,  err_kws={'alpha': 0.01}, color = all_colors[ix_current_type],\n",
    "            marker = all_markers[ix_current_type], label = current_type)\n",
    "\n",
    "    \n",
    "\n",
    "        axes.set_xticks([i for i in range(1,11+1,2)])\n",
    "        axes.set_xlabel('Round')\n",
    "        axes.set_ylabel('')\n",
    "\n",
    "\n",
    "    # Scale of axis\n",
    "    axes.set_ylim([0,5])\n",
    "    axes.set_yticks(range(1,5,1))\n",
    "\n",
    "    axes.hlines(1, xmax=11, xmin=1, label= 'Nash Equilibrium', colors='gray')\n",
    "    axes.hlines(4, xmax=11, xmin=1, label= 'Monopoly Price', colors= 'black')\n",
    "    axes.legend(loc='lower center', bbox_to_anchor =(0.5,-0.5), ncol=3)\n",
    "\n"
   ]
  },
  {
   "cell_type": "code",
   "execution_count": 75,
   "metadata": {},
   "outputs": [
    {
     "data": {
      "image/png": "[encoded data removed]",
      "text/plain": [
       "<Figure size 1440x504 with 1 Axes>"
      ]
     },
     "metadata": {
      "needs_background": "light"
     },
     "output_type": "display_data"
    }
   ],
   "source": [
    "make_line_plot_type(data_last_sg, data_last_sg['type'].unique())"
   ]
  },
  {
   "cell_type": "code",
   "execution_count": 76,
   "metadata": {},
   "outputs": [],
   "source": [
    "data_cooperater = data_last_sg.loc[data_last_sg['type'] == 0].groupby(['participant.code'], as_index=False)['winning_price'].mean().copy()\n",
    "data_not_cooperater = data_last_sg.loc[data_last_sg['type'] != 0].groupby(['participant.code'], as_index=False)['winning_price'].mean().copy()"
   ]
  },
  {
   "cell_type": "code",
   "execution_count": null,
   "metadata": {},
   "outputs": [],
   "source": []
  },
  {
   "cell_type": "code",
   "execution_count": 77,
   "metadata": {},
   "outputs": [],
   "source": [
    "data_last_sg_humans = data.loc[(data['super_game'] == 3) &\n",
    "                             (data['treatment'] == '3H0A') ].copy()"
   ]
  },
  {
   "cell_type": "code",
   "execution_count": 78,
   "metadata": {},
   "outputs": [],
   "source": [
    "from scipy.stats import mannwhitneyu"
   ]
  },
  {
   "cell_type": "code",
   "execution_count": 79,
   "metadata": {},
   "outputs": [
    {
     "data": {
      "text/plain": [
       "MannwhitneyuResult(statistic=3.0, pvalue=0.0012126454136237783)"
      ]
     },
     "execution_count": 79,
     "metadata": {},
     "output_type": "execute_result"
    }
   ],
   "source": [
    "mannwhitneyu(\n",
    "    data_last_sg_humans.groupby(['super_group_id_general'])['winning_price'].mean(),\n",
    "    data_cooperater['winning_price'].values,\n",
    "    alternative='two-sided',\n",
    "    use_continuity=False\n",
    ")"
   ]
  },
  {
   "cell_type": "code",
   "execution_count": 80,
   "metadata": {},
   "outputs": [
    {
     "data": {
      "text/plain": [
       "MannwhitneyuResult(statistic=57.0, pvalue=0.09027677038420827)"
      ]
     },
     "execution_count": 80,
     "metadata": {},
     "output_type": "execute_result"
    }
   ],
   "source": [
    "mannwhitneyu(\n",
    "    data_last_sg_humans.groupby(['super_group_id_general'])['winning_price'].mean(),\n",
    "    data_not_cooperater['winning_price'].values,\n",
    "    alternative='two-sided',\n",
    "    use_continuity=False\n",
    ")"
   ]
  },
  {
   "cell_type": "code",
   "execution_count": 81,
   "metadata": {},
   "outputs": [
    {
     "data": {
      "text/plain": [
       "array([2.09090909, 1.36363636, 1.27272727, 1.36363636, 1.81818182,\n",
       "       2.09090909, 1.72727273, 2.09090909, 2.09090909, 1.45454545,\n",
       "       2.09090909])"
      ]
     },
     "execution_count": 81,
     "metadata": {},
     "output_type": "execute_result"
    }
   ],
   "source": [
    "data_not_cooperater['winning_price'].values"
   ]
  },
  {
   "cell_type": "code",
   "execution_count": 82,
   "metadata": {},
   "outputs": [
    {
     "data": {
      "text/plain": [
       "super_group_id_general\n",
       "session_02062021_1000_1         1.303030\n",
       "session_02062021_1000_2         3.060606\n",
       "session_02062021_1130_1         2.151515\n",
       "session_07062021_1130_1         1.939394\n",
       "session_07062021_1130_2         2.454545\n",
       "session_08062021_1630_3H0A_1    3.939394\n",
       "session_17062021_1600_1         1.969697\n",
       "Name: winning_price, dtype: float64"
      ]
     },
     "execution_count": 82,
     "metadata": {},
     "output_type": "execute_result"
    }
   ],
   "source": [
    "data_last_sg_humans.groupby(['super_group_id_general'])['winning_price'].mean()"
   ]
  }
 ],
 "metadata": {
  "kernelspec": {
   "display_name": "Python 3",
   "language": "python",
   "name": "python3"
  },
  "language_info": {
   "codemirror_mode": {
    "name": "ipython",
    "version": 3
   },
   "file_extension": ".py",
   "mimetype": "text/x-python",
   "name": "python",
   "nbconvert_exporter": "python",
   "pygments_lexer": "ipython3",
   "version": "3.7.7"
  }
 },
 "nbformat": 4,
 "nbformat_minor": 4
}
