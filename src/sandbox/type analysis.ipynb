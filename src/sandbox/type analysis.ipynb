{
 "cells": [
  {
   "cell_type": "code",
   "execution_count": 59,
   "metadata": {},
   "outputs": [],
   "source": [
    "# Do not delete this cell. It ensures that you can do the imports,\n",
    "# load datasets etc. in the same fashion as in any Python script\n",
    "# in the project template.\n",
    "\n",
    "\n",
    "import sys\n",
    "sys.path.insert(0, '../..')\n",
    "from bld.project_paths import project_paths_join as ppj\n",
    "from bld.project_paths import project_paths as pp\n",
    "\n",
    "import seaborn as sns\n",
    "import matplotlib.pyplot as plt\n",
    "from matplotlib import rc\n",
    "\n",
    "plt.style.use('seaborn-whitegrid')\n",
    "plt.rcParams.update({'font.size': 20})\n",
    "rc('text', usetex=True)\n"
   ]
  },
  {
   "cell_type": "code",
   "execution_count": 60,
   "metadata": {},
   "outputs": [],
   "source": [
    "import pandas as pd\n",
    "%config Completer.use_jedi = False\n"
   ]
  },
  {
   "cell_type": "code",
   "execution_count": 83,
   "metadata": {},
   "outputs": [],
   "source": [
    "data_cluster_1H1A = pd.read_pickle(ppj('OUT_ANALYSIS', 'data_individual_with_types_1H1A.pickle'))\n",
    "data_cluster_1H2A = pd.read_pickle(ppj('OUT_ANALYSIS', 'data_individual_with_types_1H2A.pickle'))"
   ]
  },
  {
   "cell_type": "markdown",
   "metadata": {},
   "source": [
    "# Share of participants that can be attributed to a specific type"
   ]
  },
  {
   "cell_type": "code",
   "execution_count": 62,
   "metadata": {},
   "outputs": [],
   "source": [
    "a = data_cluster_1H1A.groupby(['strategy_type'], as_index=True)[['participant.code']].nunique() / len(set(data_cluster_1H1A['participant.code']))"
   ]
  },
  {
   "cell_type": "code",
   "execution_count": 63,
   "metadata": {},
   "outputs": [
    {
     "data": {
      "text/plain": [
       "{'participant.code': {0: 0.59375, 1: 0.3125, 2: 0.09375}}"
      ]
     },
     "execution_count": 63,
     "metadata": {},
     "output_type": "execute_result"
    }
   ],
   "source": [
    "a.to_dict()"
   ]
  },
  {
   "cell_type": "code",
   "execution_count": 64,
   "metadata": {},
   "outputs": [
    {
     "data": {
      "text/plain": [
       "{'participant.code': {'0': 0.59375, '1': 0.3125, '2': 0.09375}}"
      ]
     },
     "execution_count": 64,
     "metadata": {},
     "output_type": "execute_result"
    }
   ],
   "source": [
    "eval(a.to_json())"
   ]
  },
  {
   "cell_type": "code",
   "execution_count": 65,
   "metadata": {},
   "outputs": [
    {
     "data": {
      "text/html": [
       "<div>\n",
       "<style scoped>\n",
       "    .dataframe tbody tr th:only-of-type {\n",
       "        vertical-align: middle;\n",
       "    }\n",
       "\n",
       "    .dataframe tbody tr th {\n",
       "        vertical-align: top;\n",
       "    }\n",
       "\n",
       "    .dataframe thead th {\n",
       "        text-align: right;\n",
       "    }\n",
       "</style>\n",
       "<table border=\"1\" class=\"dataframe\">\n",
       "  <thead>\n",
       "    <tr style=\"text-align: right;\">\n",
       "      <th></th>\n",
       "      <th>participant.code</th>\n",
       "    </tr>\n",
       "    <tr>\n",
       "      <th>strategy_type</th>\n",
       "      <th></th>\n",
       "    </tr>\n",
       "  </thead>\n",
       "  <tbody>\n",
       "    <tr>\n",
       "      <th>0</th>\n",
       "      <td>0.476190</td>\n",
       "    </tr>\n",
       "    <tr>\n",
       "      <th>1</th>\n",
       "      <td>0.285714</td>\n",
       "    </tr>\n",
       "    <tr>\n",
       "      <th>2</th>\n",
       "      <td>0.238095</td>\n",
       "    </tr>\n",
       "  </tbody>\n",
       "</table>\n",
       "</div>"
      ],
      "text/plain": [
       "               participant.code\n",
       "strategy_type                  \n",
       "0                      0.476190\n",
       "1                      0.285714\n",
       "2                      0.238095"
      ]
     },
     "execution_count": 65,
     "metadata": {},
     "output_type": "execute_result"
    }
   ],
   "source": [
    "data_cluster_1H2A.groupby(['strategy_type'], as_index=True)[['participant.code']].nunique() / len(set(data_cluster_1H2A['participant.code']))"
   ]
  },
  {
   "cell_type": "markdown",
   "metadata": {},
   "source": [
    "Graph that plots the types for the last super game"
   ]
  },
  {
   "cell_type": "code",
   "execution_count": 66,
   "metadata": {},
   "outputs": [],
   "source": [
    "def make_line_plot(data_1H1A, data_1H2A, all_types):\n",
    "\n",
    "    fig, axes = plt.subplots(nrows=1, ncols=2, figsize=(18, 10))\n",
    "    plt.subplots_adjust(wspace=0.02)\n",
    "    \n",
    "    # Hand picked colors\n",
    "    all_colors = sns.color_palette('colorblind')\n",
    "    \n",
    "    # all treatments of interest \n",
    "    all_treatments = ['1H1A', '1H2A']\n",
    "    \n",
    "    # Hand picked markers and dashes\n",
    "    all_markers = [\"v\", \"s\", \"P\", \"X\", \"d\"]\n",
    "    \n",
    "    # Make line plots\n",
    "    for ix_data, data in enumerate([data_1H1A, data_cluster_1H2A]):\n",
    "        for ix_type, current_type in enumerate(all_types):\n",
    "            if ix_data == 0:\n",
    "                sns.lineplot(x='round',\n",
    "                             y='winning_price',\n",
    "                             data=data.loc[data['strategy_type'] == current_type],\n",
    "                             ax=axes[ix_data],\n",
    "                             color=all_colors[ix_type],\n",
    "                             ci=None,\n",
    "                             marker=all_markers[ix_type],\n",
    "                             markersize=9,\n",
    "                             label=f\"Type {current_type}\")\n",
    "            else:\n",
    "                sns.lineplot(x='round',\n",
    "                             y='winning_price',\n",
    "                             data=data.loc[data['strategy_type'] == current_type],\n",
    "                             ax=axes[ix_data],\n",
    "                             color=all_colors[ix_type],\n",
    "                             ci=None,\n",
    "                             marker=all_markers[ix_type],\n",
    "                             markersize=9)\n",
    "\n",
    "\n",
    "        axes[ix_data].set_xticks([i for i in range(5, 11 + 1, 5)])\n",
    "        axes[ix_data].set_xlabel('Round')\n",
    "        axes[ix_data].set_ylabel('')\n",
    "        axes[ix_data].set_title(f'{all_treatments[ix_data]}')\n",
    "\n",
    "        # Increase xtick label size\n",
    "        axes[ix_data].tick_params(axis='both', which='major', labelsize=20)\n",
    "\n",
    "    # Scale of axis\n",
    "    for axis_index in range(2):\n",
    "        axes[axis_index].set_ylim([0, 5.5])\n",
    "        axes[axis_index].set_yticks(range(0, 6, 1))\n",
    "\n",
    "        if axis_index != 0:\n",
    "            axes[axis_index].set_yticklabels([])\n",
    "\n",
    "        # Add line for monopoly price and stage game nash equilibrium\n",
    "        axes[axis_index].hlines(\n",
    "            1,\n",
    "            xmax=11,\n",
    "            xmin=1,\n",
    "            label='Nash equilibrium',\n",
    "            colors='gray')\n",
    "        axes[axis_index].hlines(\n",
    "            4,\n",
    "            xmax=11,\n",
    "            xmin=1,\n",
    "            label='Monopoly price',\n",
    "            colors='black')\n",
    "    \n",
    "    # Add ylabel\n",
    "    axes[0].set_ylabel('Market price')\n",
    "    \n",
    "    # Add legend\n",
    "    axes[0].legend(\n",
    "        loc='lower center', bbox_to_anchor=(\n",
    "            1.1, -0.28), ncol=3, fontsize=20)\n",
    "     \n",
    "    # Save the figure\n",
    "    fig.savefig(ppj(\"OUT_FIGURES\", f\"line_plot_type_classification.pdf\"),\n",
    "                bbox_inches='tight')\n"
   ]
  },
  {
   "cell_type": "code",
   "execution_count": 67,
   "metadata": {},
   "outputs": [
    {
     "data": {
      "image/png": "[encoded data removed]",
      "text/plain": [
       "<Figure size 1296x720 with 2 Axes>"
      ]
     },
     "metadata": {},
     "output_type": "display_data"
    }
   ],
   "source": [
    "make_line_plot(data_1H1A=data_cluster_1H1A,\n",
    "               data_1H2A=data_cluster_1H2A,\n",
    "               all_types=[0,1,2])"
   ]
  },
  {
   "cell_type": "markdown",
   "metadata": {},
   "source": [
    "# Testing for treatment effect if we subset the groups"
   ]
  },
  {
   "cell_type": "code",
   "execution_count": 68,
   "metadata": {},
   "outputs": [],
   "source": [
    "data_group_level = pd.read_pickle(ppj('OUT_DATA', 'data_group_level.pickle'))\n",
    "\n",
    "# GEt the data for 2H0A\n",
    "data_2H0A_last_sg = data_group_level.loc[(data_group_level['treatment'] == '2H0A') &\n",
    "                                         (data_group_level['super_game'] == 3)]\n",
    "\n",
    "data_independent_observations_2H0A = data_2H0A_last_sg.groupby(['super_group_id_general'])['winning_price'].mean().values\n",
    "\n",
    "# Get the data for 3H0A\n",
    "data_3H0A_last_sg = data_group_level.loc[(data_group_level['treatment'] == '3H0A') &\n",
    "                                         (data_group_level['super_game'] == 3)]\n",
    "\n",
    "data_independent_observations_3H0A = data_3H0A_last_sg.groupby(['super_group_id_general'])['winning_price'].mean().values"
   ]
  },
  {
   "cell_type": "code",
   "execution_count": 81,
   "metadata": {},
   "outputs": [
    {
     "data": {
      "text/plain": [
       "array([1.3030303 , 3.06060606, 2.15151515, 1.93939394, 2.45454545,\n",
       "       3.93939394, 1.96969697])"
      ]
     },
     "execution_count": 81,
     "metadata": {},
     "output_type": "execute_result"
    }
   ],
   "source": [
    "data_independent_observations_3H0A"
   ]
  },
  {
   "cell_type": "markdown",
   "metadata": {},
   "source": [
    "Lets first test for differences in 1H1A vs fully human market."
   ]
  },
  {
   "cell_type": "code",
   "execution_count": 69,
   "metadata": {},
   "outputs": [],
   "source": [
    "# Split the data based on the type 0 (cooperative type)\n",
    "data_not_type_0_1H1A, data_type_0_1H1A = [x for _, x in data_cluster_1H1A.groupby(data_cluster_1H1A['strategy_type'] == 0)]"
   ]
  },
  {
   "cell_type": "code",
   "execution_count": 70,
   "metadata": {},
   "outputs": [
    {
     "data": {
      "text/plain": [
       "array([2.81818182, 4.        , 4.        , 4.        , 4.        ,\n",
       "       4.        , 4.        , 4.        , 4.        , 4.        ,\n",
       "       4.        , 4.        , 4.        , 4.        , 4.        ,\n",
       "       4.        , 4.        , 4.        , 4.        ])"
      ]
     },
     "execution_count": 70,
     "metadata": {},
     "output_type": "execute_result"
    }
   ],
   "source": [
    "data_type_0_1H1A.groupby(['participant.code'])['winning_price'].mean().values"
   ]
  },
  {
   "cell_type": "code",
   "execution_count": 71,
   "metadata": {},
   "outputs": [],
   "source": [
    "# As this treatment is individual choice, I can groupy by participant.code\n",
    "data_independent_observatios_type_0_1H1A = data_type_0_1H1A.groupby(['participant.code'])['winning_price'].mean().values\n",
    "data_independent_observatios_not_type_0_1H1A = data_not_type_0_1H1A.groupby(['participant.code'])['winning_price'].mean().values"
   ]
  },
  {
   "cell_type": "code",
   "execution_count": 72,
   "metadata": {},
   "outputs": [],
   "source": [
    "from scipy.stats import mannwhitneyu, ttest_ind"
   ]
  },
  {
   "cell_type": "code",
   "execution_count": 73,
   "metadata": {},
   "outputs": [
    {
     "data": {
      "text/plain": [
       "1.9122060479581403e-05"
      ]
     },
     "execution_count": 73,
     "metadata": {},
     "output_type": "execute_result"
    }
   ],
   "source": [
    "mannwhitneyu(\n",
    "    data_independent_observatios_type_0_1H1A,\n",
    "    data_independent_observations_2H0A,\n",
    "    use_continuity=False,\n",
    "    alternative='two-sided'\n",
    ")[-1]"
   ]
  },
  {
   "cell_type": "code",
   "execution_count": 74,
   "metadata": {},
   "outputs": [
    {
     "data": {
      "text/plain": [
       "MannwhitneyuResult(statistic=21.0, pvalue=0.006024195704062682)"
      ]
     },
     "execution_count": 74,
     "metadata": {},
     "output_type": "execute_result"
    }
   ],
   "source": [
    "mannwhitneyu(\n",
    "    data_independent_observatios_not_type_0_1H1A,\n",
    "    data_independent_observations_2H0A,\n",
    "    use_continuity=False,\n",
    "    alternative='two-sided'\n",
    ")"
   ]
  },
  {
   "cell_type": "markdown",
   "metadata": {},
   "source": [
    "Next 1H2A v fully human market"
   ]
  },
  {
   "cell_type": "code",
   "execution_count": 92,
   "metadata": {},
   "outputs": [],
   "source": [
    "# Split the data based on the type 0 (cooperative type)\n",
    "data_not_type_0_1H2A, data_type_0_1H2A = [x for _, x in data_cluster_1H2A.groupby(data_cluster_1H2A['strategy_type'] == 0)]"
   ]
  },
  {
   "cell_type": "code",
   "execution_count": 93,
   "metadata": {},
   "outputs": [],
   "source": [
    "# As this treatment is individual choice, I can groupy by participant.code\n",
    "data_independent_observatios_type_0_1H2A = data_type_0_1H2A.groupby(['participant.code'])['winning_price'].mean().values\n",
    "data_independent_observatios_not_type_0_1H2A = data_not_type_0_1H2A.groupby(['participant.code'])['winning_price'].mean().values"
   ]
  },
  {
   "cell_type": "code",
   "execution_count": 94,
   "metadata": {},
   "outputs": [
    {
     "data": {
      "text/plain": [
       "11"
      ]
     },
     "execution_count": 94,
     "metadata": {},
     "output_type": "execute_result"
    }
   ],
   "source": [
    "len(data_independent_observatios_not_type_0_1H2A)"
   ]
  },
  {
   "cell_type": "code",
   "execution_count": 95,
   "metadata": {},
   "outputs": [
    {
     "data": {
      "text/plain": [
       "10"
      ]
     },
     "execution_count": 95,
     "metadata": {},
     "output_type": "execute_result"
    }
   ],
   "source": [
    "len(data_independent_observatios_type_0_1H2A)"
   ]
  },
  {
   "cell_type": "code",
   "execution_count": 96,
   "metadata": {},
   "outputs": [
    {
     "data": {
      "text/plain": [
       "array([1.3030303 , 3.06060606, 2.15151515, 1.93939394, 2.45454545,\n",
       "       3.93939394, 1.96969697])"
      ]
     },
     "execution_count": 96,
     "metadata": {},
     "output_type": "execute_result"
    }
   ],
   "source": [
    "data_independent_observations_3H0A"
   ]
  },
  {
   "cell_type": "code",
   "execution_count": 97,
   "metadata": {},
   "outputs": [
    {
     "data": {
      "text/plain": [
       "MannwhitneyuResult(statistic=67.0, pvalue=0.0012126454136237783)"
      ]
     },
     "execution_count": 97,
     "metadata": {},
     "output_type": "execute_result"
    }
   ],
   "source": [
    "mannwhitneyu(\n",
    "    data_independent_observatios_type_0_1H2A,\n",
    "    data_independent_observations_3H0A,\n",
    "    use_continuity=False,\n",
    "    alternative='two-sided'\n",
    ")"
   ]
  },
  {
   "cell_type": "code",
   "execution_count": 98,
   "metadata": {},
   "outputs": [
    {
     "data": {
      "text/plain": [
       "MannwhitneyuResult(statistic=20.0, pvalue=0.09027677038420827)"
      ]
     },
     "execution_count": 98,
     "metadata": {},
     "output_type": "execute_result"
    }
   ],
   "source": [
    "mannwhitneyu(\n",
    "    data_independent_observatios_not_type_0_1H2A,\n",
    "    data_independent_observations_3H0A,\n",
    "    use_continuity=False,\n",
    "    alternative='two-sided'\n",
    ")"
   ]
  }
 ],
 "metadata": {
  "kernelspec": {
   "display_name": "Python 3",
   "language": "python",
   "name": "python3"
  },
  "language_info": {
   "codemirror_mode": {
    "name": "ipython",
    "version": 3
   },
   "file_extension": ".py",
   "mimetype": "text/x-python",
   "name": "python",
   "nbconvert_exporter": "python",
   "pygments_lexer": "ipython3",
   "version": "3.7.7"
  }
 },
 "nbformat": 4,
 "nbformat_minor": 4
}
