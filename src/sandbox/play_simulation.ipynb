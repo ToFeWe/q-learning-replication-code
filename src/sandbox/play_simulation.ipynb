{
 "cells": [
  {
   "cell_type": "code",
   "execution_count": 1,
   "metadata": {},
   "outputs": [],
   "source": [
    "# Do not delete this cell. It ensures that you can do the imports,\n",
    "# load datasets etc. in the same fashion as in any Python script\n",
    "# in the project template.\n",
    "\n",
    "%matplotlib inline\n",
    "\n",
    "import sys\n",
    "sys.path.insert(0, '../..')\n",
    "from bld.project_paths import project_paths_join as ppj\n",
    "from bld.project_paths import project_paths as pp\n",
    "\n"
   ]
  },
  {
   "cell_type": "code",
   "execution_count": 2,
   "metadata": {},
   "outputs": [],
   "source": [
    "from qpricesim.simulations.utils_simulation import gen_price_combination_byte_mappings\n",
    "from qpricesim.simulations.utils_simulation import gen_possible_prices\n",
    "from qpricesim.simulations.utils_simulation import price_state_to_int_state\n",
    "from qpricesim.simulations.utils_simulation import int_state_to_price_state"
   ]
  },
  {
   "cell_type": "code",
   "execution_count": 3,
   "metadata": {},
   "outputs": [],
   "source": [
    "import pickle\n",
    "import json\n",
    "import numpy as np\n",
    "import matplotlib.pyplot as plt"
   ]
  },
  {
   "cell_type": "code",
   "execution_count": 4,
   "metadata": {},
   "outputs": [],
   "source": [
    "class PlaySimulation:\n",
    "    def __init__(self, parameter_base, best_agent, inital_int_state, two_algo):\n",
    "        self.best_agent = best_agent\n",
    "        self.max_price = parameter_base['max_price']\n",
    "        self.min_price = parameter_base['min_price']\n",
    "        \n",
    "        \n",
    "        \n",
    "        mappings = gen_price_combination_byte_mappings(parameter=parameter_base)\n",
    "        self.prices_to_int_dict = mappings[0]\n",
    "        self.int_to_prices_dict = mappings[1]\n",
    "        \n",
    "        self.price_array = gen_possible_prices(parameter=parameter_base)\n",
    "        \n",
    "        self.n_agents = parameter_base['n_agent']\n",
    "        \n",
    "        if self.n_agents == 2:\n",
    "            self.two_algo = False\n",
    "        else:\n",
    "            self.two_algo = two_algo\n",
    "        \n",
    "\n",
    "        self.price_state = int_state_to_price_state(int_state=inital_int_state,\n",
    "                                                    int_to_prices_dict=self.int_to_prices_dict)\n",
    "        if self.two_algo:\n",
    "            self.player_buffer = [self.price_state[-1]]\n",
    "            self.agent_buffer = [self.price_state[:1]]     \n",
    "        else:\n",
    "            self.player_buffer = [self.price_state[1:]]\n",
    "            self.agent_buffer = [self.price_state[0]]     \n",
    "    def play(self, player_price):\n",
    "        state = price_state_to_int_state(price_state=self.price_state,\n",
    "                                         prices_to_int_dict=self.prices_to_int_dict)\n",
    "        \n",
    "        agent_action = self.best_agent.get_best_action(state)\n",
    "        \n",
    "        # Agent price is picked here twice\n",
    "        agent_price = self.price_array[agent_action]\n",
    "        \n",
    "        if self.n_agents == 2:\n",
    "            self.price_state = np.array([agent_price, player_price])\n",
    "        elif self.n_agents == 3:\n",
    "            if self.two_algo:\n",
    "                self.price_state = np.array([agent_price, agent_price, player_price])\n",
    "            else:\n",
    "                self.price_state = np.array([agent_price, player_price[0], player_price[1]])\n",
    "        \n",
    "        self.agent_buffer.append(agent_price)\n",
    "        self.player_buffer.append(player_price)\n",
    "        \n",
    "        if self.n_agents == 2:\n",
    "            plt.plot(self.player_buffer, label='Price Human')\n",
    "            plt.plot(self.agent_buffer, label = 'algo Price')\n",
    "        elif self.n_agents == 3:\n",
    "            if self.two_algo:\n",
    "                plt.plot(self.player_buffer, label='Price Human')\n",
    "                plt.plot(self.agent_buffer, label= 'Price Agent 1')\n",
    "                plt.plot(self.agent_buffer, label= 'Price Agent 2')\n",
    "            else:\n",
    "                p_1, p_2 = zip(*self.player_buffer)\n",
    "                plt.plot(p_1, label= 'Price Human 1')\n",
    "                plt.plot(p_2, label= 'Price Human 2')\n",
    "                plt.plot(self.agent_buffer, label= 'Price Agent')\n",
    "                \n",
    "        plt.ylim([self.min_price -1 , self.max_price + 1])\n",
    "        plt.legend()"
   ]
  },
  {
   "cell_type": "code",
   "execution_count": 49,
   "metadata": {},
   "outputs": [],
   "source": [
    "N_AGENTS = 2"
   ]
  },
  {
   "cell_type": "code",
   "execution_count": 50,
   "metadata": {},
   "outputs": [],
   "source": [
    "with open(ppj(f\"IN_SIMULATION_{N_AGENTS}_AGENT\", f\"experiment_super_star_{N_AGENTS}_agent.pickle\"), \"rb\") as f:\n",
    "    super_star_output = pickle.load(f)"
   ]
  },
  {
   "cell_type": "code",
   "execution_count": 51,
   "metadata": {},
   "outputs": [],
   "source": [
    "with open(ppj(\"IN_SIMULATION_PARAMETER\", f\"parameter_{N_AGENTS}_agent_base.json\"), \"r\") as f:\n",
    "    parameter_base = json.load(f)"
   ]
  },
  {
   "cell_type": "code",
   "execution_count": 52,
   "metadata": {},
   "outputs": [],
   "source": [
    "super_star_agent = super_star_output[0]"
   ]
  },
  {
   "cell_type": "code",
   "execution_count": 53,
   "metadata": {},
   "outputs": [],
   "source": [
    "state_of_convergence = super_star_output[-2]"
   ]
  },
  {
   "cell_type": "code",
   "execution_count": 54,
   "metadata": {},
   "outputs": [],
   "source": [
    "play_sim = PlaySimulation(parameter_base=parameter_base,\n",
    "               best_agent=super_star_agent,\n",
    "               inital_int_state=state_of_convergence,\n",
    "               two_algo=True)"
   ]
  },
  {
   "cell_type": "code",
   "execution_count": 76,
   "metadata": {},
   "outputs": [
    {
     "data": {
      "image/png": "[encoded data removed]",
      "text/plain": [
       "<Figure size 432x288 with 1 Axes>"
      ]
     },
     "metadata": {
      "needs_background": "light"
     },
     "output_type": "display_data"
    }
   ],
   "source": [
    "play_sim.play(0)"
   ]
  }
 ],
 "metadata": {
  "kernelspec": {
   "display_name": "Python 3",
   "language": "python",
   "name": "python3"
  },
  "language_info": {
   "codemirror_mode": {
    "name": "ipython",
    "version": 3
   },
   "file_extension": ".py",
   "mimetype": "text/x-python",
   "name": "python",
   "nbconvert_exporter": "python",
   "pygments_lexer": "ipython3",
   "version": "3.7.7"
  }
 },
 "nbformat": 4,
 "nbformat_minor": 4
}