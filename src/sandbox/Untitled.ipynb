{
 "cells": [
  {
   "cell_type": "code",
   "execution_count": 5,
   "id": "e24aa977",
   "metadata": {},
   "outputs": [],
   "source": [
    "from qpricesim.simulations.mc_simulation_job_array import run_specific_specification\n",
    "import numpy as np"
   ]
  },
  {
   "cell_type": "code",
   "execution_count": 27,
   "id": "61ce15cf",
   "metadata": {
    "scrolled": true
   },
   "outputs": [],
   "source": [
    "params = {\n",
    "  \"n_agent\": 3,\n",
    "  \"k_memory\": 1,\n",
    "  \"discount_rate\": 7/10,\n",
    "  \"exploration_rate\": 1,\n",
    "  \"min_price\": 600,\n",
    "  \"max_price\": 1000,\n",
    "  \"reservation_price\": 1000,\n",
    "  \"m_consumer\": 24,\n",
    "  \"step\": 400,\n",
    "  \"learning_iterations\": 1000000000,\n",
    "  \"rounds_convergence\": 100000,\n",
    "  \"Q_star_threshold\": 1e-09,\n",
    "  \"avg_price_rounds\": 1000\n",
    "}"
   ]
  },
  {
   "cell_type": "code",
   "execution_count": 28,
   "id": "558459e6",
   "metadata": {},
   "outputs": [
    {
     "name": "stdout",
     "output_type": "stream",
     "text": [
      "We converged for the agent with beta=1e-07 and alpha=0.02\n",
      "Last state for agent with beta=1e-07 and alpha=0.02 = 5\n",
      "It took us t=100158 training iterations to converge\n",
      "Did we converge? True\n"
     ]
    }
   ],
   "source": [
    "results = run_specific_specification(beta=1e-7, alpha=0.02, base_parameter=params, random_seed=1)"
   ]
  },
  {
   "cell_type": "code",
   "execution_count": 29,
   "id": "7270e0e4",
   "metadata": {},
   "outputs": [
    {
     "name": "stdout",
     "output_type": "stream",
     "text": [
      "\n",
      "    Runs a specific simulation for a fixed beta, alpha and random_seed.\n",
      "\n",
      "    Args:\n",
      "        beta (float): Decay parameter for the exploration rate\n",
      "        alpha (float): Learning rate\n",
      "        base_parameter (dict): Parameter dictionary as described somewhere else TODO\n",
      "        random_seed (list): Random seed to be used\n",
      "\n",
      "    Returns:\n",
      "        list: Outcomes: profitability_state, weighted_profitability, best_response_share,\n",
      "              avg_profit, state, trained_agents\n",
      "\n",
      "              profitability_state (float): Value of the state of convergence\n",
      "              weighted_profitability (float): Average profitability across all states\n",
      "                                              weighted by the best_response_share\n",
      "              best_response_share (float): Share of states in which the agent plays\n",
      "                                           the best reponse (Optimality criterion).\n",
      "              avg_profit (float): Average of the value of all states.\n",
      "              prices_upon_convergence (float): Prices after convergence\n",
      "              nash_equilibrium (boolean): True if the agents play jointly a Nash Equilibrium\n",
      "              state (integer): Index representation of the state of convergence\n",
      "              trained_agents (list): List of all QLearningAgents upon convergence\n",
      "    \n"
     ]
    }
   ],
   "source": [
    "print(run_specific_specification.__doc__)"
   ]
  },
  {
   "cell_type": "code",
   "execution_count": 30,
   "id": "ea8eea40",
   "metadata": {},
   "outputs": [
    {
     "data": {
      "text/plain": [
       "(array([28005.31613173, 27920.30463313, 27756.88813739]),\n",
       " array([27886.65506448, 27658.02693527, 27857.28384119]),\n",
       " array([1., 1., 1.]),\n",
       " array([27886.65506448, 27658.02693527, 27857.28384119]),\n",
       " array([[600, 600, 600],\n",
       "        [600, 600, 600],\n",
       "        [600, 600, 600],\n",
       "        ...,\n",
       "        [600, 600, 600],\n",
       "        [600, 600, 600],\n",
       "        [600, 600, 600]], dtype=int64),\n",
       " array([1., 1., 1.]),\n",
       " 5,\n",
       " [<qpricesim.model_code.QLearningAgent.QLearningAgentBase at 0x241a8048bc8>,\n",
       "  <qpricesim.model_code.QLearningAgent.QLearningAgentBase at 0x241a8025508>,\n",
       "  <qpricesim.model_code.QLearningAgent.QLearningAgentBase at 0x241ab09fa48>])"
      ]
     },
     "execution_count": 30,
     "metadata": {},
     "output_type": "execute_result"
    }
   ],
   "source": [
    "results"
   ]
  }
 ],
 "metadata": {
  "kernelspec": {
   "display_name": "q_env",
   "language": "python",
   "name": "q_env"
  },
  "language_info": {
   "codemirror_mode": {
    "name": "ipython",
    "version": 3
   },
   "file_extension": ".py",
   "mimetype": "text/x-python",
   "name": "python",
   "nbconvert_exporter": "python",
   "pygments_lexer": "ipython3",
   "version": "3.7.7"
  }
 },
 "nbformat": 4,
 "nbformat_minor": 5
}
